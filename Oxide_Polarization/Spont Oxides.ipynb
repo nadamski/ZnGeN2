{
 "cells": [
  {
   "cell_type": "code",
   "execution_count": 68,
   "metadata": {},
   "outputs": [],
   "source": [
    "import numpy as np\n",
    "import matplotlib as mpl\n",
    "import matplotlib.pyplot as plt\n",
    "import matplotlib.ticker as mtick"
   ]
  },
  {
   "cell_type": "code",
   "execution_count": 69,
   "metadata": {},
   "outputs": [],
   "source": [
    "def sp_wz_1(workdir):\n",
    "    POS = workdir + \"/POSCAR\"\n",
    "    OUT = workdir + \"/OUTCAR\"\n",
    "    POSIN = !head -5 \"{POS##*/}\" | tail -3\n",
    "    INCIN = !grep DIPOL \"{INC##*/}\"\n",
    "    OUTIN = !grep dipole \"{OUT##*/}\"\n",
    "\n",
    "    vecs = np.array([[float(i) for i in j.split()] for j in POSIN])\n",
    "    Ionic = np.array([float(i) for i in OUTIN[1].split()[4:7]])\n",
    "    electric= np.array([float(i) for i in OUTIN[2].split()[5:8]])\n",
    "\n",
    "    TotalDip = Ionic + electric\n",
    "    TotalDipM = np.array(TotalDip)\n",
    "\n",
    "    TotalDipM[2] = (TotalDip[2] + vecs[2][2]/2 + 0.01) % vecs[2][2] - vecs[2][2]/2 - 0.01\n",
    "    TotalDipM[1] = (TotalDip[1] + vecs[1][1]/2) % vecs[1][1] - vecs[1][1]/2\n",
    "    TotalDipM[0] = (TotalDip[0] - (TotalDip[1] - TotalDipM[1])/vecs[1][1]*vecs[2][1] + vecs[0][0]/2) % vecs[0][0] - vecs[0][0]/2\n",
    "    return {'Ion':Ionic, 'Electronic':electric, 'Total':TotalDip, 'Mod':TotalDipM}\n",
    "    \n",
    "    print(vecs)\n",
    "    print(DIPOL)\n",
    "    np.savetxt(sys.stdout, TotalDipM, '%0.5f')\n",
    "\n",
    "def sp_rs_1(workdir, spin=1, var=2):\n",
    "    POS = workdir + \"/POSCAR\"\n",
    "    INC = workdir + \"/INCAR\"\n",
    "    OUT = workdir + \"/OUTCAR\"\n",
    "    POSIN = !head -5 \"{POS##*/}\" | tail -3\n",
    "    INCIN = !grep DIPOL \"{INC##*/}\"\n",
    "    OUTIN = !grep dipole \"{OUT##*/}\"\n",
    "\n",
    "    vecs = np.array([[float(i) for i in j.split()] for j in POSIN])\n",
    "    Ionic = np.array([float(i) for i in OUTIN[1].split()[4:7]])\n",
    "    electric= np.array([float(i) for i in OUTIN[1+spin].split()[5:8]])\n",
    "\n",
    "    TotalDip = Ionic + electric\n",
    "    TotalDipM = np.array(TotalDip)\n",
    "\n",
    "    dip = vecs[2][1]\n",
    "    TotalDipM[2] = (TotalDip[2] + var + 0.01) % (dip*2) - var - 0.01\n",
    "    TotalDipM[1] = (TotalDip[1] + var + 0.01) % (dip*2) - var - 0.01\n",
    "    TotalDipM[0] = (TotalDip[0] + var + 0.01) % (dip*2) - var - 0.01\n",
    "    return {'Ion':Ionic, 'Electronic':electric, 'Total':TotalDip, 'Mod':TotalDipM}\n",
    "    \n",
    "    print(vecs)\n",
    "    print(DIPOL)\n",
    "    np.savetxt(sys.stdout, TotalDipM, '%0.5f')\n"
   ]
  },
  {
   "cell_type": "code",
   "execution_count": 70,
   "metadata": {},
   "outputs": [
    {
     "data": {
      "image/png": "[encoded data removed]",
      "text/plain": [
       "<Figure size 432x288 with 1 Axes>"
      ]
     },
     "metadata": {
      "needs_background": "light"
     },
     "output_type": "display_data"
    }
   ],
   "source": [
    "path = \"/home/nadamski/SP/ZnO_sp/ZnO_sp/\"\n",
    "folders = !ls \"{path##*/}\"\n",
    "r = len(folders)\n",
    "tf = np.zeros(r)\n",
    "for a in range(r):\n",
    "    lpath = path + folders[a]\n",
    "\n",
    "    dip = sp_wz_1(lpath)\n",
    "    tf[a] = dip[\"Mod\"][2]\n",
    "\n",
    "x = np.array([float(j) for j in folders])\n",
    "cf = 1.6e-19/5.2446883970770823/2.8191824213275716/3.2553111805886981 * 1e20\n",
    "tf = (tf % 5.2446883970770823)\n",
    "P_ZnO = cf*tf\n",
    "\n",
    "u_wz_Zn = 0.5 - x * (0.123)/11\n",
    "u_m_Zn = 1 - 2 * u_wz_Zn\n",
    "\n",
    "\n",
    "\n",
    "\n",
    "\n",
    "fig = plt.figure(figsize=(6,4))\n",
    "\n",
    "ax = plt.subplot(111)\n",
    "plt.plot(u_wz,P_ZnO,'b.')\n",
    "\n",
    "plt.xlim([0.375, 0.5])\n",
    "#plt.ylim([0, 1.4])\n",
    "\n",
    "ax.set_xticklabels(ax.get_xticks(), fontsize=16)\n",
    "ax.set_yticklabels(ax.get_yticks(), fontsize=16)\n",
    "ax.yaxis.set_major_formatter(mtick.FormatStrFormatter('%.2f'))\n",
    "ax.xaxis.set_major_formatter(mtick.FormatStrFormatter('%.2f'))\n",
    "\n",
    "\n",
    "plt.xlabel('u-parameter', fontsize=16)\n",
    "plt.ylabel(r'Polarization (C/m$^2$)', fontsize=16)\n",
    "plt.title('ZnO SP', fontsize=20)\n",
    "plt.savefig('ZnO.png', bbox_inches='tight', format='png', dpi=300)\n",
    "plt.show()"
   ]
  },
  {
   "cell_type": "code",
   "execution_count": 71,
   "metadata": {},
   "outputs": [
    {
     "name": "stdout",
     "output_type": "stream",
     "text": [
      "[-2.82325678e+00 -2.68704831e+00 -2.55198298e+00 -2.41910005e+00\n",
      " -2.28831289e+00 -2.15894601e+00 -2.02996690e+00 -1.90058271e+00\n",
      " -1.77019392e+00 -1.63845414e+00 -1.50493034e+00 -1.36925880e+00\n",
      " -1.23083330e+00 -1.08934207e+00 -9.44248174e-01 -7.95291804e-01\n",
      " -6.42386359e-01 -4.85739684e-01 -3.25871394e-01 -1.63578234e-01\n",
      " -3.35553984e-06]\n"
     ]
    }
   ],
   "source": [
    "path = \"/home/nadamski/SP/CaO_rs/PBE/\"\n",
    "folders = !ls \"{path##*/}\"\n",
    "r = len(folders)\n",
    "tf = np.zeros(r)\n",
    "for a in range(r):\n",
    "    lpath = path + folders[a]\n",
    "    #print(folders[a])\n",
    "    dip = sp_rs_1(lpath, spin=1)\n",
    "    tf[a] = sum(i**2 for i in dip[\"Mod\"])**0.5*np.sign(dip[\"Mod\"][0])\n",
    "\n",
    "x = np.array([float(j) for j in folders])/120 + 0.3333333\n",
    "cf = 16/2.4106540313390861**3/2\n",
    "P_CaO = cf*tf\n",
    "print(tf)\n",
    "\n",
    "u_m_Ca = 3*x - 1"
   ]
  },
  {
   "cell_type": "code",
   "execution_count": null,
   "metadata": {},
   "outputs": [],
   "source": []
  },
  {
   "cell_type": "code",
   "execution_count": 72,
   "metadata": {},
   "outputs": [
    {
     "name": "stdout",
     "output_type": "stream",
     "text": [
      "[-2.49273650e+00 -2.36532684e+00 -2.23725900e+00 -2.10896600e+00\n",
      " -1.98072496e+00 -1.85284765e+00 -1.72548177e+00 -1.59876493e+00\n",
      " -1.47272359e+00 -1.34737508e+00 -1.22271938e+00 -1.09865258e+00\n",
      " -9.75174678e-01 -8.52181750e-01 -7.29656476e-01 -6.07477612e-01\n",
      " -4.85610517e-01 -3.63985909e-01 -2.42551827e-01 -1.21256309e-01\n",
      "  4.56780734e-06]\n"
     ]
    }
   ],
   "source": [
    "path = \"/home/nadamski/SP/MgO_rs/PBE/\"\n",
    "folders = !ls \"{path##*/}\"\n",
    "r = len(folders)\n",
    "tf = np.zeros(r)\n",
    "for a in range(r):\n",
    "    lpath = path + folders[a]\n",
    "    #print(folders[a])\n",
    "    dip = sp_rs_1(lpath, spin=1)\n",
    "    tf[a] = sum(i**2 for i in dip[\"Mod\"])**0.5*np.sign(dip[\"Mod\"][0])\n",
    "\n",
    "x = np.array([float(j) for j in folders])/120 + 0.3333333\n",
    "cf = 16/2.1226436813876024**3/2\n",
    "P_MgO = cf*tf\n",
    "print(tf)\n",
    "\n",
    "u_m_Mg = 3*x - 1"
   ]
  },
  {
   "cell_type": "code",
   "execution_count": 73,
   "metadata": {},
   "outputs": [
    {
     "data": {
      "image/png": "[encoded data removed]",
      "text/plain": [
       "<Figure size 432x288 with 1 Axes>"
      ]
     },
     "metadata": {
      "needs_background": "light"
     },
     "output_type": "display_data"
    }
   ],
   "source": [
    "fig = plt.figure(figsize=(6,4))\n",
    "\n",
    "ax = plt.subplot(111)\n",
    "\n",
    "P_mod = 16 / (3.2553**2*3**0.5/2)\n",
    "\n",
    "plt.plot(u_m_Zn, P_ZnO, '.',color='C0')\n",
    "plt.plot(u_m_Zn, P_ZnO+P_mod, '.',color='C0')\n",
    "plt.plot(u_m_Zn, P_ZnO-P_mod, '.',color='C0')\n",
    "\n",
    "plt.plot(u_m_Zn[-1], P_ZnO[-1], '.',color='C0',markersize=15)\n",
    "plt.plot(u_m_Zn[-1], P_ZnO[-1]+P_mod, '.',color='C0',markersize=15)\n",
    "plt.plot(u_m_Zn[-1], P_ZnO[-1]-P_mod, '.',color='C0',markersize=15)\n",
    "\n",
    "\n",
    "plt.plot(u_m_Ca, P_CaO, 'v', color='C1')\n",
    "plt.plot(u_m_Mg, P_MgO, '^', color='C3')\n",
    "\n",
    "plt.plot(u_m_Ca[-1], P_CaO[-1], 'v', color='C1',markersize=10)\n",
    "plt.plot(u_m_Mg[-1], P_MgO[-1], '^', color='C3',markersize=10)\n",
    "\n",
    "\n",
    "\n",
    "ax.set_xticklabels(ax.get_xticks(), fontsize=16)\n",
    "ax.set_yticklabels(ax.get_yticks(), fontsize=16)\n",
    "ax.yaxis.set_major_formatter(mtick.FormatStrFormatter('%.2f'))\n",
    "ax.xaxis.set_major_formatter(mtick.FormatStrFormatter('%.2f'))\n",
    "\n",
    "plt.text(0.05, 1.40, r'ZnO-$wz$ + $nP_{\\rmmod}$', color='C0', fontsize=16)\n",
    "plt.text(0.35, 0.70, r'CaO-$rs$', color='C1', fontsize=16)\n",
    "plt.text(0.35, -1.70, r'MgO-$rs$', color='C3', fontsize=16)\n",
    "\n",
    "plt.grid(True)\n",
    "plt.xlabel(r'$\\delta$', fontsize=16)\n",
    "plt.ylabel(r'Polarization (C/m$^2$)', fontsize=16)\n",
    "plt.title(r'Oxides $P_{\\rm f}$', fontsize=20)\n",
    "plt.savefig('Oxides.png', bbox_inches='tight', format='png', dpi=300)\n",
    "plt.show()"
   ]
  },
  {
   "cell_type": "code",
   "execution_count": 74,
   "metadata": {},
   "outputs": [
    {
     "data": {
      "image/png": "[encoded data removed]",
      "text/plain": [
       "<Figure size 432x288 with 1 Axes>"
      ]
     },
     "metadata": {
      "needs_background": "light"
     },
     "output_type": "display_data"
    }
   ],
   "source": [
    "fig = plt.figure(figsize=(6,4))\n",
    "\n",
    "ax = plt.subplot(111)\n",
    "\n",
    "P_mod_Ca = 16 / ((2.4106540313390861*2**0.5)**2*3**0.5/2)\n",
    "P_mod_Mg = 16 / ((2.1226436813876024*2**0.5)**2*3**0.5/2)\n",
    "\n",
    "\n",
    "plt.plot(u_m_Zn, P_ZnO,color='C0')\n",
    "\n",
    "plt.plot(u_m_Zn[0], P_ZnO[0], '.',color='C0',markersize=15)\n",
    "\n",
    "\n",
    "plt.plot(u_m_Ca, P_CaO+P_mod_Ca, color='C1')\n",
    "plt.plot(u_m_Mg, P_MgO+P_mod_Mg, color='C3')\n",
    "\n",
    "plt.xlim([-0.02, 0.2])\n",
    "plt.ylim([-0.1, 0.6])\n",
    "\n",
    "\n",
    "ax.set_xticklabels(ax.get_xticks(), fontsize=16)\n",
    "ax.set_yticklabels(ax.get_yticks(), fontsize=16)\n",
    "ax.yaxis.set_major_formatter(mtick.FormatStrFormatter('%.2f'))\n",
    "ax.xaxis.set_major_formatter(mtick.FormatStrFormatter('%.2f'))\n",
    "\n",
    "#plt.text(0.05, 1.40, r'ZnO-$wz$', color='C0', fontsize=16)\n",
    "#plt.text(0.35, 0.70, r'CaO-$rs$', color='C1', fontsize=16)\n",
    "#plt.text(0.35, -1.70, r'MgO-$rs$', color='C3', fontsize=16)\n",
    "\n",
    "plt.grid(True)\n",
    "plt.xlabel(r'$\\delta$', fontsize=16)\n",
    "plt.ylabel(r'Polarization (C/m$^2$)', fontsize=16)\n",
    "plt.title(r'Oxides $P_{\\rm f}$', fontsize=20)\n",
    "plt.savefig('Oxides0.png', bbox_inches='tight', format='png', dpi=300)\n",
    "plt.show()"
   ]
  },
  {
   "cell_type": "code",
   "execution_count": 36,
   "metadata": {},
   "outputs": [
    {
     "data": {
      "text/plain": [
       "array([-0.02265601,  0.05512785,  0.13225889,  0.20814364,  0.28283158,\n",
       "        0.35670843,  0.43036385,  0.5042506 ,  0.57871104,  0.65394298,\n",
       "        0.73019371,  0.80767094,  0.88672086,  0.96752151,  1.05037951,\n",
       "        1.13544324,  1.22276214,  1.31221753,  1.40351267,  1.49619257,\n",
       "        1.58960441])"
      ]
     },
     "execution_count": 36,
     "metadata": {},
     "output_type": "execute_result"
    }
   ],
   "source": [
    "P_CaO+P_mod_Ca"
   ]
  },
  {
   "cell_type": "code",
   "execution_count": 37,
   "metadata": {},
   "outputs": [
    {
     "data": {
      "text/plain": [
       "array([-0.03489711,  0.07167929,  0.17880625,  0.28612155,  0.3933934 ,\n",
       "        0.50036098,  0.60690076,  0.71289763,  0.81832944,  0.92318173,\n",
       "        1.02745448,  1.13123462,  1.23452216,  1.33740403,  1.43989471,\n",
       "        1.54209563,  1.64403575,  1.74577303,  1.84735095,  1.94881296,\n",
       "        2.05024599])"
      ]
     },
     "execution_count": 37,
     "metadata": {},
     "output_type": "execute_result"
    }
   ],
   "source": [
    "P_MgO+P_mod_Mg"
   ]
  },
  {
   "cell_type": "code",
   "execution_count": 38,
   "metadata": {},
   "outputs": [
    {
     "data": {
      "text/plain": [
       "0.3796446014401682"
      ]
     },
     "execution_count": 38,
     "metadata": {},
     "output_type": "execute_result"
    }
   ],
   "source": [
    "0.9996673007200834 - 0.6200226992799152"
   ]
  },
  {
   "cell_type": "code",
   "execution_count": 39,
   "metadata": {},
   "outputs": [
    {
     "data": {
      "text/plain": [
       "0.2407107971196636"
      ]
     },
     "execution_count": 39,
     "metadata": {},
     "output_type": "execute_result"
    }
   ],
   "source": [
    "1 - 2*0.3796446014401682"
   ]
  },
  {
   "cell_type": "code",
   "execution_count": 40,
   "metadata": {},
   "outputs": [
    {
     "data": {
      "text/plain": [
       "0.41357026570655453"
      ]
     },
     "execution_count": 40,
     "metadata": {},
     "output_type": "execute_result"
    }
   ],
   "source": [
    "1/3 + 0.2407107971196636 / 3"
   ]
  },
  {
   "cell_type": "code",
   "execution_count": null,
   "metadata": {},
   "outputs": [],
   "source": []
  },
  {
   "cell_type": "code",
   "execution_count": null,
   "metadata": {},
   "outputs": [],
   "source": []
  }
 ],
 "metadata": {
  "kernelspec": {
   "display_name": "Python 3",
   "language": "python",
   "name": "python3"
  },
  "language_info": {
   "codemirror_mode": {
    "name": "ipython",
    "version": 3
   },
   "file_extension": ".py",
   "mimetype": "text/x-python",
   "name": "python",
   "nbconvert_exporter": "python",
   "pygments_lexer": "ipython3",
   "version": "3.6.9"
  }
 },
 "nbformat": 4,
 "nbformat_minor": 2
}
