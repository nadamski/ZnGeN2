{
 "cells": [
  {
   "cell_type": "code",
   "execution_count": 1,
   "metadata": {},
   "outputs": [
    {
     "data": {
      "text/plain": [
       "7.7883171723665283"
      ]
     },
     "execution_count": 1,
     "metadata": {},
     "output_type": "execute_result"
    }
   ],
   "source": [
    "import numpy as np\n",
    "import matplotlib as mpl\n",
    "import matplotlib.pyplot as plt\n",
    "import numpy.polynomial.polynomial as poly\n",
    "np.set_printoptions(suppress=True)\n",
    "\n",
    "a1 = np.array([ 0.000000000,2.248293508, 2.248293508])\n",
    "a2 = np.array([ 2.248293508,0 ,2.248293508])\n",
    "a3 = np.array([ 2.248293508 ,2.248293508,0.000000000,])\n",
    "np.linalg.norm(a1+a2+a3)"
   ]
  },
  {
   "cell_type": "code",
   "execution_count": 2,
   "metadata": {},
   "outputs": [
    {
     "data": {
      "text/plain": [
       "[7.7883171723665283, 5.5071718866120092, 6.359134342417966]"
      ]
     },
     "execution_count": 2,
     "metadata": {},
     "output_type": "execute_result"
    }
   ],
   "source": [
    "sc1 = np.linalg.norm(a1+a2+a3)\n",
    "sc2 = np.linalg.norm(a1+a2)\n",
    "sc3 = np.linalg.norm(2*a3)\n",
    "[sc1, sc2, sc3]"
   ]
  },
  {
   "cell_type": "code",
   "execution_count": 3,
   "metadata": {},
   "outputs": [],
   "source": [
    "al1 = 5.0144837000582232\n",
    "al2 = 5.4178094990763324\n",
    "al3 = 6.2559204194986435"
   ]
  },
  {
   "cell_type": "code",
   "execution_count": 4,
   "metadata": {},
   "outputs": [
    {
     "data": {
      "text/plain": [
       "1.5531643212393129"
      ]
     },
     "execution_count": 4,
     "metadata": {},
     "output_type": "execute_result"
    }
   ],
   "source": [
    "sc1/al1"
   ]
  },
  {
   "cell_type": "code",
   "execution_count": 5,
   "metadata": {},
   "outputs": [
    {
     "data": {
      "text/plain": [
       "12.552063858881805"
      ]
     },
     "execution_count": 5,
     "metadata": {},
     "output_type": "execute_result"
    }
   ],
   "source": [
    "sc1 * al2/sc2 * al3/sc3 + al1"
   ]
  },
  {
   "cell_type": "code",
   "execution_count": 16,
   "metadata": {},
   "outputs": [
    {
     "data": {
      "text/plain": [
       "-12"
      ]
     },
     "execution_count": 16,
     "metadata": {},
     "output_type": "execute_result"
    }
   ],
   "source": [
    "np.dot(np.cross([1,1,1],[2,-2,0]),[-1,-1,2])"
   ]
  },
  {
   "cell_type": "code",
   "execution_count": 20,
   "metadata": {},
   "outputs": [
    {
     "data": {
      "text/plain": [
       "0.439135"
      ]
     },
     "execution_count": 20,
     "metadata": {},
     "output_type": "execute_result"
    }
   ],
   "source": [
    "0.37827 / 2 + 0.25"
   ]
  },
  {
   "cell_type": "code",
   "execution_count": 21,
   "metadata": {},
   "outputs": [
    {
     "data": {
      "text/plain": [
       "1.6714945666860743"
      ]
     },
     "execution_count": 21,
     "metadata": {},
     "output_type": "execute_result"
    }
   ],
   "source": [
    "al1/3"
   ]
  },
  {
   "cell_type": "code",
   "execution_count": 24,
   "metadata": {},
   "outputs": [
    {
     "data": {
      "text/plain": [
       "0.04077"
      ]
     },
     "execution_count": 24,
     "metadata": {},
     "output_type": "execute_result"
    }
   ],
   "source": [
    "0.1 - (0.248365 - 0.189135)"
   ]
  },
  {
   "cell_type": "code",
   "execution_count": 41,
   "metadata": {},
   "outputs": [
    {
     "data": {
      "text/plain": [
       "0.6204810029591697"
      ]
     },
     "execution_count": 41,
     "metadata": {},
     "output_type": "execute_result"
    }
   ],
   "source": [
    "sc1 / 12.552063858881805"
   ]
  },
  {
   "cell_type": "code",
   "execution_count": null,
   "metadata": {},
   "outputs": [],
   "source": [
    "POSCAR = []\n",
    "line0 = PoscarIn[0].split()\n",
    "size = (3, 2, 1)\n",
    "line0.append('Supercell %dx%dx%d' % size)\n",
    "POSCAR.append(' '.join(line0))\n",
    "POSCAR.append(PoscarIn[1])\n",
    "scalevecs = [[vecs[i][j]*size[i] for j in range(3)] for i in range(3)]\n",
    "for i in range(3):\n",
    "    POSCAR.append(' '.join(map(str,scalevecs[i])))\n",
    "POSCAR.append(PoscarIn[5])\n",
    "totatoms = [atoms[i] * size[i]*size[i-1]*size[i-2] for i in range(2)]\n",
    "POSCAR.append(' '.join(map(str,totatoms)))\n",
    "POSCAR.append('Direct')\n",
    "for a in range(8,8+sum(atoms)):\n",
    "    for x in range(size[0]):\n",
    "        for y in range(size[1]):\n",
    "            for z in range(size[2]):\n",
    "                dim = [x,y,z]\n",
    "                pos = map(float,PoscarIn[a].split()[0:3])\n",
    "                POSCAR.append(' '.join(map(str,[(pos[i]+dim[i])/size[i] for i in range(3)])))\n",
    "loc = '/home/nadamski/remote/cscratch/GaN/mat279/3x2x100'\n",
    "POS = loc + \"/POSCAR332\"\n",
    "!rm \"{POS##*/}\" \n",
    "for line in POSCAR:\n",
    "    !echo $line >> \"{POS##*/}\" "
   ]
  },
  {
   "cell_type": "code",
   "execution_count": 55,
   "metadata": {},
   "outputs": [],
   "source": [
    "PoscarIn = !cat /home/nadamski/ScN_AlN/oute.vasp\n",
    "positions = np.array([map(float, PoscarIn[i].split()[0:3]) for i in range(8,8+24)])"
   ]
  },
  {
   "cell_type": "code",
   "execution_count": 174,
   "metadata": {},
   "outputs": [
    {
     "data": {
      "text/plain": [
       "array([[0.      , 0.25    , 0.5     ],\n",
       "       [0.333333, 0.25    , 0.833333],\n",
       "       [0.      , 0.      , 0.      ],\n",
       "       [0.333333, 0.      , 0.333333],\n",
       "       [0.666667, 0.      , 0.666667],\n",
       "       [0.      , 0.75    , 0.5     ],\n",
       "       [0.333333, 0.75    , 0.833333],\n",
       "       [0.      , 0.5     , 0.      ],\n",
       "       [0.333333, 0.5     , 0.333333],\n",
       "       [0.666667, 0.5     , 0.666667],\n",
       "       [0.666667, 0.25    , 0.166667],\n",
       "       [0.666667, 0.75    , 0.166667],\n",
       "       [0.5     , 0.25    , 0.5     ],\n",
       "       [0.833333, 0.25    , 0.833333],\n",
       "       [0.5     , 0.      , 0.      ],\n",
       "       [0.833333, 0.      , 0.333333],\n",
       "       [0.166667, 0.      , 0.666667],\n",
       "       [0.5     , 0.75    , 0.5     ],\n",
       "       [0.833333, 0.75    , 0.833333],\n",
       "       [0.5     , 0.5     , 0.      ],\n",
       "       [0.833333, 0.5     , 0.333333],\n",
       "       [0.166667, 0.5     , 0.666667],\n",
       "       [0.166667, 0.25    , 0.166667],\n",
       "       [0.166667, 0.75    , 0.166667]])"
      ]
     },
     "execution_count": 174,
     "metadata": {},
     "output_type": "execute_result"
    }
   ],
   "source": [
    "positions"
   ]
  },
  {
   "cell_type": "code",
   "execution_count": 185,
   "metadata": {},
   "outputs": [],
   "source": [
    "positions = positions.T[[0,2,1]].T"
   ]
  },
  {
   "cell_type": "code",
   "execution_count": 186,
   "metadata": {},
   "outputs": [
    {
     "data": {
      "text/plain": [
       "array([[0.379519  , 0.5       , 0.25      ],\n",
       "       [0.58634579, 0.833333  , 0.25      ],\n",
       "       [0.379519  , 0.        , 0.        ],\n",
       "       [0.58634579, 0.333333  , 0.        ],\n",
       "       [0.79317321, 0.666667  , 0.        ],\n",
       "       [0.379519  , 0.5       , 0.75      ],\n",
       "       [0.58634579, 0.833333  , 0.75      ],\n",
       "       [0.379519  , 0.        , 0.5       ],\n",
       "       [0.58634579, 0.333333  , 0.5       ],\n",
       "       [0.79317321, 0.666667  , 0.5       ],\n",
       "       [0.79317321, 0.166667  , 0.25      ],\n",
       "       [0.79317321, 0.166667  , 0.75      ],\n",
       "       [0.6897595 , 0.5       , 0.25      ],\n",
       "       [0.89658629, 0.833333  , 0.25      ],\n",
       "       [0.6897595 , 0.        , 0.        ],\n",
       "       [0.89658629, 0.333333  , 0.        ],\n",
       "       [0.4829327 , 0.666667  , 0.        ],\n",
       "       [0.6897595 , 0.5       , 0.75      ],\n",
       "       [0.89658629, 0.833333  , 0.75      ],\n",
       "       [0.6897595 , 0.        , 0.5       ],\n",
       "       [0.89658629, 0.333333  , 0.5       ],\n",
       "       [0.4829327 , 0.666667  , 0.5       ],\n",
       "       [0.4829327 , 0.166667  , 0.25      ],\n",
       "       [0.4829327 , 0.166667  , 0.75      ]])"
      ]
     },
     "execution_count": 186,
     "metadata": {},
     "output_type": "execute_result"
    }
   ],
   "source": [
    "positions * np.array([0.6204810029591697, 1, 1]) + np.array([1-0.6204810029591697,0,0])\n"
   ]
  },
  {
   "cell_type": "code",
   "execution_count": 187,
   "metadata": {},
   "outputs": [
    {
     "data": {
      "text/plain": [
       "array([[ 0.49672999,  0.33333402,  0.        ],\n",
       "       [-0.00327001,  0.66666598,  0.        ],\n",
       "       [-0.00327001,  0.16666598,  0.25      ],\n",
       "       [ 0.49672999,  0.83333402,  0.25      ],\n",
       "       [ 0.49672999,  0.83333402,  0.75      ],\n",
       "       [-0.00327001,  0.16666598,  0.75      ],\n",
       "       [-0.00327001,  0.66666598,  0.5       ],\n",
       "       [ 0.49672999,  0.33333402,  0.5       ],\n",
       "       [ 0.37827001,  0.66666404, -0.        ],\n",
       "       [ 0.87827001,  0.33333595, -0.        ],\n",
       "       [ 0.87827001,  0.83333596,  0.25      ],\n",
       "       [ 0.37827001,  0.16666404,  0.25      ],\n",
       "       [ 0.37827001,  0.66666404,  0.5       ],\n",
       "       [ 0.87827001,  0.33333595,  0.5       ],\n",
       "       [ 0.87827001,  0.83333596,  0.75      ],\n",
       "       [ 0.37827001,  0.16666404,  0.75      ]])"
      ]
     },
     "execution_count": 187,
     "metadata": {},
     "output_type": "execute_result"
    }
   ],
   "source": [
    "PoscarAl = !cat /home/nadamski/ScN_AlN/AlN.vasp\n",
    "positionsAl = np.array([map(float, PoscarAl[i].split()[0:3]) for i in range(8,8+16)])\n",
    "positionsAl"
   ]
  },
  {
   "cell_type": "code",
   "execution_count": 188,
   "metadata": {},
   "outputs": [
    {
     "data": {
      "text/plain": [
       "array([[ 0.00000000e+00,  0.00000000e+00,  0.00000000e+00],\n",
       "       [ 5.00000000e-01,  3.33331960e-01,  0.00000000e+00],\n",
       "       [ 5.00000000e-01, -1.66668040e-01,  2.50000000e-01],\n",
       "       [ 0.00000000e+00,  5.00000000e-01,  2.50000000e-01],\n",
       "       [ 0.00000000e+00,  5.00000000e-01,  7.50000000e-01],\n",
       "       [ 5.00000000e-01, -1.66668040e-01,  7.50000000e-01],\n",
       "       [ 5.00000000e-01,  3.33331960e-01,  5.00000000e-01],\n",
       "       [ 0.00000000e+00,  0.00000000e+00,  5.00000000e-01],\n",
       "       [ 8.81540015e-01,  3.33330020e-01,  0.00000000e+00],\n",
       "       [ 3.81540015e-01,  1.93000000e-06, -0.00000000e+00],\n",
       "       [ 3.81540015e-01,  5.00001940e-01,  2.50000000e-01],\n",
       "       [ 8.81540015e-01, -1.66669980e-01,  2.50000000e-01],\n",
       "       [ 8.81540015e-01,  3.33330020e-01,  5.00000000e-01],\n",
       "       [ 3.81540015e-01,  1.93000000e-06,  5.00000000e-01],\n",
       "       [ 3.81540015e-01,  5.00001940e-01,  7.50000000e-01],\n",
       "       [ 8.81540015e-01, -1.66669980e-01,  7.50000000e-01]])"
      ]
     },
     "execution_count": 188,
     "metadata": {},
     "output_type": "execute_result"
    }
   ],
   "source": [
    "positionsAl -= [positionsAl[0][0],0,0]\n",
    "for i in range(len(positionsAl)):\n",
    "    if positionsAl[i][0] < -0.01:\n",
    "        positionsAl[i] += [1,0,0]\n",
    "positionsAl  -= np.array([0, 0.33333402,0])\n",
    "positionsAl"
   ]
  },
  {
   "cell_type": "code",
   "execution_count": 192,
   "metadata": {},
   "outputs": [
    {
     "data": {
      "text/plain": [
       "0.83333196"
      ]
     },
     "execution_count": 192,
     "metadata": {},
     "output_type": "execute_result"
    }
   ],
   "source": [
    "(-1.66668040 / 10.0 + 1)"
   ]
  },
  {
   "cell_type": "code",
   "execution_count": 190,
   "metadata": {},
   "outputs": [
    {
     "name": "stdout",
     "output_type": "stream",
     "text": [
      "[0. 0. 0.]\n",
      "[0.1897595  0.33333196 0.        ]\n",
      "[ 0.1897595  -0.16666804  0.25      ]\n",
      "[0.   0.5  0.25]\n",
      "[0.   0.5  0.75]\n",
      "[ 0.1897595  -0.16666804  0.75      ]\n",
      "[0.1897595  0.33333196 0.5       ]\n",
      "[0.  0.  0.5]\n",
      "[0.33456118 0.33333002 0.        ]\n",
      "[ 1.44801684e-01  1.93000000e-06 -0.00000000e+00]\n",
      "[0.14480168 0.50000194 0.25      ]\n",
      "[ 0.33456118 -0.16666998  0.25      ]\n",
      "[0.33456118 0.33333002 0.5       ]\n",
      "[1.44801684e-01 1.93000000e-06 5.00000000e-01]\n",
      "[0.14480168 0.50000194 0.75      ]\n",
      "[ 0.33456118 -0.16666998  0.75      ]\n"
     ]
    }
   ],
   "source": [
    "positionsAl = positionsAl * np.array([1-0.6204810029591697, 1, 1])\n",
    "for i in positionsAl:\n",
    "    print(\"\".join(str(i)))"
   ]
  },
  {
   "cell_type": "code",
   "execution_count": 96,
   "metadata": {},
   "outputs": [
    {
     "data": {
      "text/plain": [
       "0.8815400145284054"
      ]
     },
     "execution_count": 96,
     "metadata": {},
     "output_type": "execute_result"
    }
   ],
   "source": [
    "list(i)[0]"
   ]
  },
  {
   "cell_type": "code",
   "execution_count": 95,
   "metadata": {},
   "outputs": [
    {
     "data": {
      "text/plain": [
       "0.8815400145284054"
      ]
     },
     "execution_count": 95,
     "metadata": {},
     "output_type": "execute_result"
    }
   ],
   "source": [
    "i[0]"
   ]
  },
  {
   "cell_type": "code",
   "execution_count": 4,
   "metadata": {},
   "outputs": [
    {
     "name": "stdout",
     "output_type": "stream",
     "text": [
      "0.5840820633045081 0.8754472310631414 0.9990005655313112\n",
      "0.9159179366954919 0.3754472310631414 0.4990005655313112\n",
      "0.4159179366954919 0.1245527689368586 0.4990005655313112\n",
      "0.0840820633045081 0.6245527689368586 0.9990005655313112\n",
      "0.0765335183255685 0.1255851187323762 9.9399286299e-05\n",
      "0.9234664816744315 0.8744148812676238 0.500099399286299\n",
      "0.4234664816744315 0.6255851187323762 0.500099399286299\n",
      "0.5765335183255685 0.3744148812676238 9.9399286299e-05\n",
      "0.5980894067007526 0.8595550458648584 0.392876488169528\n",
      "0.4019105932992474 0.1404449541351415 0.8928764881695279\n",
      "0.9019105932992474 0.3595550458648585 0.8928764881695279\n",
      "0.0980894067007526 0.6404449541351416 0.392876488169528\n",
      "0.5657267807201696 0.3900599686325099 0.3590235470128737\n",
      "0.0657267807201696 0.1099400313674901 0.3590235470128737\n",
      "0.9342732192798304 0.8900599686325099 0.8590235470128736\n",
      "0.4342732192798304 0.6099400313674901 0.8590235470128736\n"
     ]
    }
   ],
   "source": [
    "PoscarIn = !cat /home/nadamski/POSCAR\n",
    "positions = np.array([map(float, PoscarIn[i].split()[0:3]) for i in range(8,24)])\n",
    "positions = positions.T[[1,2,0]].T\n",
    "positions = [map(str,positions[i]) for i in range(len(positions))]\n",
    "for i in positions: \n",
    "    print ' '.join(i)"
   ]
  },
  {
   "cell_type": "code",
   "execution_count": null,
   "metadata": {},
   "outputs": [],
   "source": []
  },
  {
   "cell_type": "code",
   "execution_count": 6,
   "metadata": {},
   "outputs": [
    {
     "data": {
      "text/plain": [
       "['0.333335746665624', '-0.0', '0.1735531878444957']"
      ]
     },
     "execution_count": 6,
     "metadata": {},
     "output_type": "execute_result"
    }
   ],
   "source": [
    "positions[1]"
   ]
  },
  {
   "cell_type": "code",
   "execution_count": 36,
   "metadata": {},
   "outputs": [
    {
     "name": "stdout",
     "output_type": "stream",
     "text": [
      "0.3320556866549791 -0.0 0.4947064874978223\n",
      "0.6679443133450207 -0.0 0.9947064874978221\n",
      "0.1641894446044205 0.2372179841626551 0.995549450904465\n",
      "0.8358105553955792 0.2372179841626551 0.4955494509044652\n",
      "0.8358105553955792 0.7627820158373447 0.4955494509044652\n",
      "0.1641894446044205 0.7627820158373447 0.995549450904465\n",
      "0.6781605387038414 0.5 0.9808366498405251\n",
      "0.3218394612961587 0.5 0.4808366498405251\n",
      "0.6587252185310332 -0.0 0.3763682813116686\n",
      "0.3412747814689667 -0.0 0.8763682813116688\n",
      "0.8439989946990597 0.2283163836576788 0.8735835344523115\n",
      "0.1560010053009406 0.2283163836576788 0.3735835344523118\n",
      "0.6936046263026513 0.5 0.4098226106364304\n",
      "0.3063953736973485 0.5 0.9098226106364304\n",
      "0.8439989946990597 0.7716836163423213 0.8735835344523115\n",
      "0.1560010053009406 0.7716836163423213 0.3735835344523118\n"
     ]
    }
   ],
   "source": [
    "PoscarIn = !cat /home/nadamski/test/CONTCAR\n",
    "positions = np.array([map(float, PoscarIn[i].split()[0:3]) for i in range(8,24)])\n",
    "positions = positions.T[[1,2,0]].T\n",
    "#print positions\n",
    "positions = [map(str,positions[i]) for i in range(len(positions))]\n",
    "for i in positions: \n",
    "    print ' '.join(i)"
   ]
  },
  {
   "cell_type": "code",
   "execution_count": 76,
   "metadata": {},
   "outputs": [
    {
     "data": {
      "image/png": "[encoded data removed]",
      "text/plain": [
       "<Figure size 432x288 with 1 Axes>"
      ]
     },
     "metadata": {},
     "output_type": "display_data"
    },
    {
     "data": {
      "text/plain": [
       "-1.1388172742311775"
      ]
     },
     "execution_count": 76,
     "metadata": {},
     "output_type": "execute_result"
    }
   ],
   "source": [
    "a = 5.0249174294300785 * 8\n",
    "b = 5.0249174294300785 *6\n",
    "V = 5.0249174294300785 * 5.5886636152816154 * 6.5312340734480951\n",
    "ypol = [2.69056 + 24.45410-a, 24.92959+2.3558-a,24.27594 + 3.36014-a, \n",
    "        23.6223+ 4.36408-a, -4.94244 + 22.94797-b, 22.30673 -3.93968-b,\n",
    "        21.65308-2.93617-b, 20.99944 -1.9325-b, 20.34579-0.92855-b, \n",
    "        16.39495+ 5.17283-b, 15.74130 - 4.16015-a/2, 15.08766-3.14942-a/2, 0]\n",
    "plt.plot([0, 1, 2, 3, 4, 5, 6, 7, 8, 14, 15, 16, 39],ypol)\n",
    "plt.show()\n",
    "\n",
    "(2.69056 + 24.45410-a) / V * 1.6e-19 * 1e20"
   ]
  },
  {
   "cell_type": "code",
   "execution_count": 72,
   "metadata": {},
   "outputs": [],
   "source": [
    "x  = np.arange(0, 1, 0.01)\n",
    "P = -0.089*(1-x) - 0.874*x + 0.741*(1-x)*x"
   ]
  },
  {
   "cell_type": "code",
   "execution_count": 73,
   "metadata": {},
   "outputs": [
    {
     "data": {
      "text/plain": [
       "[<matplotlib.lines.Line2D at 0x7f3adc8b6350>]"
      ]
     },
     "execution_count": 73,
     "metadata": {},
     "output_type": "execute_result"
    },
    {
     "data": {
      "image/png": "[encoded data removed]",
      "text/plain": [
       "<Figure size 432x288 with 1 Axes>"
      ]
     },
     "metadata": {},
     "output_type": "display_data"
    }
   ],
   "source": [
    "plt.plot(x,P)"
   ]
  },
  {
   "cell_type": "code",
   "execution_count": null,
   "metadata": {},
   "outputs": [],
   "source": []
  }
 ],
 "metadata": {
  "kernelspec": {
   "display_name": "Python 2",
   "language": "python",
   "name": "python2"
  },
  "language_info": {
   "codemirror_mode": {
    "name": "ipython",
    "version": 2
   },
   "file_extension": ".py",
   "mimetype": "text/x-python",
   "name": "python",
   "nbconvert_exporter": "python",
   "pygments_lexer": "ipython2",
   "version": "2.7.15rc1"
  }
 },
 "nbformat": 4,
 "nbformat_minor": 2
}
