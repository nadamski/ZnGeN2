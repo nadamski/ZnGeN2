{
 "cells": [
  {
   "cell_type": "code",
   "execution_count": 15,
   "metadata": {},
   "outputs": [],
   "source": [
    "import numpy as np\n",
    "import matplotlib as mpl\n",
    "import matplotlib.pyplot as plt\n",
    "from copy import deepcopy\n",
    "from matplotlib.ticker import FormatStrFormatter\n",
    "%matplotlib inline\n",
    "\n",
    "# Sc_sv N bEdges = {'ScN_VB':5.149753, 'ScN_CB':6.047881}\n",
    "bEdges = {'ScN_VB':5.584459, 'ScN_CB':6.5}\n",
    "\n",
    "DefTot = np.load('DefectTotalEnergyScN.npy').item()\n",
    "E0 = DefTot['default'][0]['0']\n",
    "FreyCorr = np.load('FreysoldtCorrectionsScN.npy').item()\n",
    "ChemPot = np.load('ChemicalReferences.npy').item()\n",
    "text_def = np.load('LineLabels.npy').item()\n",
    "colors = np.load('LineColors.npy').item()"
   ]
  },
  {
   "cell_type": "code",
   "execution_count": 16,
   "metadata": {},
   "outputs": [],
   "source": [
    "def setChemPot(cond, delta={}):\n",
    "    mu = {}\n",
    "    mu['Sc'] = cond[0] + ChemPot['Sc'][0]/ChemPot['Sc'][1]['Sc']\n",
    "    mu['N'] = cond[1] + ChemPot['N'][0]/ChemPot['N'][1]['N']\n",
    "    for ref in ChemPot:\n",
    "        if len(set(ChemPot[ref][1].keys()) - {'Sc', 'N'}) > 1: \n",
    "            continue\n",
    "        if len(ChemPot[ref][1]) == 1:\n",
    "            for ele in ChemPot[ref][1]:\n",
    "                if not ele in ['Sc', 'N']:\n",
    "                    if not ele in mu: \n",
    "                        mu[ele] = 0\n",
    "                    mu[ele] = min(mu[ele], ChemPot[ref][0] / ChemPot[ref][1][ele])\n",
    "        else:\n",
    "            for ele in ChemPot[ref][1]:\n",
    "                if not ele in ['Sc', 'N']:\n",
    "                    if not ele in mu: \n",
    "                        mu[ele] = 0\n",
    "                    mu[ele] = min(mu[ele], ChemPot[ref][0] / ChemPot[ref][1][ele] - sum(mu[key] * ChemPot[ref][1][key] / ChemPot[ref][1][ele] for key in ChemPot[ref][1] if key != ele))\n",
    "    return mu"
   ]
  },
  {
   "cell_type": "code",
   "execution_count": 17,
   "metadata": {},
   "outputs": [],
   "source": [
    "def getPOSCARdiff(defect):\n",
    "    default = {'Sc':32, 'N':32}\n",
    "    n_mu = {}\n",
    "    for i in DefTot[defect][1]:\n",
    "        if i in default:\n",
    "            n_mu[i] = DefTot[defect][1][i] - default[i]\n",
    "        else: \n",
    "            n_mu[i] = DefTot[defect][1][i]\n",
    "    return n_mu"
   ]
  },
  {
   "cell_type": "code",
   "execution_count": 18,
   "metadata": {},
   "outputs": [],
   "source": [
    "def getLine(defect, cond, BandEdges = bEdges, Ef = np.arange(0, bEdges['ScN_CB']-bEdges['ScN_VB'],0.0001), charge = ''):\n",
    "    chem = setChemPot(cond)\n",
    "    defLoc = deepcopy(DefTot)\n",
    "    defPar = defLoc[defect]\n",
    "    n_mu = getPOSCARdiff(defect)\n",
    "    levels = defPar[0]\n",
    "    pLevels = {}\n",
    "    #print levels\n",
    "    #def_i_l = []\n",
    "    \n",
    "    if charge:\n",
    "        if charge in FreyCorr[defect]:\n",
    "            levels[charge] += FreyCorr[defect][charge]\n",
    "        pLevels[charge] = defPar[0][charge] - E0 - sum(n_mu[j] * chem[j] for j in n_mu) + int(charge) * (Ef + BandEdges['ScN_VB'])\n",
    "    else: \n",
    "        for i in levels:\n",
    "            # add functionality to get defect levels: \n",
    "            # if str(int(i)-1) in levels:\n",
    "            #    def_i_l += defPar[0][i] - defPar[0][str(int(i)-1)] - bEdges['VB']\n",
    "\n",
    "            if i in FreyCorr[defect]:\n",
    "                levels[i] += FreyCorr[defect][i]\n",
    "            pLevels[i] = defPar[0][i] - E0 - sum(n_mu[j] * chem[j] for j in n_mu) + int(i) * (Ef + BandEdges['ScN_VB'])\n",
    "    \n",
    "    charges = [int(l) for l in pLevels]\n",
    "    charges.sort()\n",
    "    intlevels = {defect+' '+str(q)+'/'+str(q+1):round(pLevels[str(q)][0] - pLevels[str(q+1)][0],3) for q in charges[-len(charges):-1]}\n",
    "    print intlevels\n",
    "    pDefect = np.minimum.reduce([pLevels[i] for i in pLevels])\n",
    "    #print (pDefect[0], pDefect[-1])\n",
    "    return pDefect"
   ]
  },
  {
   "cell_type": "code",
   "execution_count": 19,
   "metadata": {},
   "outputs": [],
   "source": [
    "from fractions import gcd\n",
    "def FormEnth(Material):\n",
    "    mat = ChemPot[Material]\n",
    "    return (mat[0] - sum(ChemPot[ele][0]/ChemPot[ele][1][ele]* mat[1][ele] for ele in mat[1]))/reduce(gcd,[i for i in mat[1].values()])"
   ]
  },
  {
   "cell_type": "code",
   "execution_count": 20,
   "metadata": {},
   "outputs": [],
   "source": [
    "Scpoor = [FormEnth('ScN'),  0]\n",
    "Npoor = [0, FormEnth('ScN')]"
   ]
  },
  {
   "cell_type": "code",
   "execution_count": 25,
   "metadata": {},
   "outputs": [],
   "source": [
    "def PlotForm(Defects, Condition, BandEdges=bEdges,ylimits=[]):\n",
    "    fig = plt.figure()\n",
    "    ax = plt.subplot(111)\n",
    "    Ef = np.arange(0, BandEdges['ScN_CB']-BandEdges['ScN_VB'],0.0001)\n",
    "    textx = 0.5\n",
    "    for i in Defects:\n",
    "        if not i in colors:\n",
    "            colour = 'black'\n",
    "        else:\n",
    "            colour = colors[i]\n",
    "        y = getLine(i, Condition, BandEdges, Ef)\n",
    "        plt.plot(Ef, y, label=i, color=colour)\n",
    "        if Defects[i]:\n",
    "            ax.text(Defects[i][0],Defects[i][1],text_def[i],fontdict={'size':18},color=colour)\n",
    "        elif i in text_def:\n",
    "            ax.text(textx,y[int(textx/max(Ef)*len(Ef))]-0.8,text_def[i],fontdict={'size':18},color=colour)\n",
    "            textx += 0.4\n",
    "    if ylimits:\n",
    "        plt.ylim(ylimits[0],ylimits[1])\n",
    "    print(y)\n",
    "    plt.xlim(0, BandEdges['ScN_CB']-BandEdges['ScN_VB'])\n",
    "    plt.ylabel('Formation Energy (eV)', fontsize=16)\n",
    "    ax.set_yticklabels(ax.get_yticks(), fontsize=16)\n",
    "    plt.xlabel('Fermi Energy (eV)', fontsize=16)\n",
    "    ax.set_xticklabels(ax.get_xticks(), fontsize=16)\n",
    "    ax.xaxis.set_major_formatter(FormatStrFormatter('%.1f'))\n",
    "    plt.savefig('ScN_H.png', bbox_inches='tight', format='png', dpi=300)\n"
   ]
  },
  {
   "cell_type": "code",
   "execution_count": 26,
   "metadata": {},
   "outputs": [
    {
     "data": {
      "text/plain": [
       "-4.091059514999998"
      ]
     },
     "execution_count": 26,
     "metadata": {},
     "output_type": "execute_result"
    }
   ],
   "source": [
    "FormEnth('ScN')"
   ]
  },
  {
   "cell_type": "code",
   "execution_count": 27,
   "metadata": {},
   "outputs": [
    {
     "name": "stdout",
     "output_type": "stream",
     "text": [
      "{'H_i -1/0': 1.756, 'H_i 0/1': 1.471}\n",
      "[-0.00372849 -0.00362849 -0.00352849 ...  0.91157151  0.91167151\n",
      "  0.91177151]\n"
     ]
    },
    {
     "data": {
      "image/png": "[encoded data removed]",
      "text/plain": [
       "<Figure size 432x288 with 1 Axes>"
      ]
     },
     "metadata": {},
     "output_type": "display_data"
    }
   ],
   "source": [
    "PlotForm({'H_i':[]},Scpoor,ylimits=[-5,7])\n"
   ]
  },
  {
   "cell_type": "code",
   "execution_count": 24,
   "metadata": {},
   "outputs": [
    {
     "data": {
      "text/plain": [
       "0.2859999999999998"
      ]
     },
     "execution_count": 24,
     "metadata": {},
     "output_type": "execute_result"
    }
   ],
   "source": [
    "2.191 - 1.905\n"
   ]
  },
  {
   "cell_type": "code",
   "execution_count": 11,
   "metadata": {},
   "outputs": [
    {
     "data": {
      "text/plain": [
       "2.048"
      ]
     },
     "execution_count": 11,
     "metadata": {},
     "output_type": "execute_result"
    }
   ],
   "source": [
    "0.2859999999999998 / 2 + 1.905"
   ]
  },
  {
   "cell_type": "code",
   "execution_count": 12,
   "metadata": {},
   "outputs": [
    {
     "data": {
      "text/plain": [
       "{'H_i': [{'-1': -693.16900562, '0': -700.365323, '1': -707.61446714},\n",
       "  {'H': 1, 'N': 32, 'Sc': 32}],\n",
       " 'default': [{'0': -697.91974502}, {'N': 32, 'Sc': 32}]}"
      ]
     },
     "execution_count": 12,
     "metadata": {},
     "output_type": "execute_result"
    }
   ],
   "source": [
    "DefTot"
   ]
  },
  {
   "cell_type": "code",
   "execution_count": 13,
   "metadata": {},
   "outputs": [
    {
     "data": {
      "text/plain": [
       "{'H_i': {'-1': 0.144162, '1': 0.194162}, 'default': {}}"
      ]
     },
     "execution_count": 13,
     "metadata": {},
     "output_type": "execute_result"
    }
   ],
   "source": [
    "FreyCorr"
   ]
  },
  {
   "cell_type": "code",
   "execution_count": 32,
   "metadata": {},
   "outputs": [
    {
     "data": {
      "text/plain": [
       "1.466794650000061"
      ]
     },
     "execution_count": 32,
     "metadata": {},
     "output_type": "execute_result"
    }
   ],
   "source": [
    "DefTot['H_i'][0]['0'] - DefTot['default'][0]['0']-ChemPot['H'][0]/2"
   ]
  },
  {
   "cell_type": "code",
   "execution_count": null,
   "metadata": {},
   "outputs": [],
   "source": []
  },
  {
   "cell_type": "code",
   "execution_count": null,
   "metadata": {},
   "outputs": [],
   "source": []
  }
 ],
 "metadata": {
  "kernelspec": {
   "display_name": "Python 2",
   "language": "python",
   "name": "python2"
  },
  "language_info": {
   "codemirror_mode": {
    "name": "ipython",
    "version": 2
   },
   "file_extension": ".py",
   "mimetype": "text/x-python",
   "name": "python",
   "nbconvert_exporter": "python",
   "pygments_lexer": "ipython2",
   "version": "2.7.15rc1"
  }
 },
 "nbformat": 4,
 "nbformat_minor": 2
}
