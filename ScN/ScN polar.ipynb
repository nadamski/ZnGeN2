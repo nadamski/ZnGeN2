{
 "cells": [
  {
   "cell_type": "code",
   "execution_count": 1,
   "metadata": {},
   "outputs": [],
   "source": [
    "import numpy as np\n",
    "import matplotlib as mpl\n",
    "import matplotlib.pyplot as plt\n",
    "import matplotlib.ticker as mtick\n",
    "\n",
    "\n",
    "def readdipGaN(workdir):\n",
    "    POS = workdir + \"/POSCAR\"\n",
    "    INC = workdir + \"/INCAR\"\n",
    "    OUT = workdir + \"/OUTCAR\"\n",
    "    POSIN = !head -5 \"{POS##*/}\" | tail -3\n",
    "    INCIN = !grep DIPOL \"{INC##*/}\"\n",
    "    OUTIN = !grep dipole \"{OUT##*/}\"\n",
    "\n",
    "    vecs = np.array([[float(i) for i in j.split()] for j in POSIN])\n",
    "    Ionic = np.array([float(i) for i in OUTIN[1].split()[4:7]])\n",
    "    electric= np.array([float(i) for i in OUTIN[2].split()[5:8]])\n",
    "\n",
    "    TotalDip = Ionic + electric\n",
    "    TotalDipM = np.array(TotalDip)\n",
    "\n",
    "    TotalDipM[2] = (TotalDip[2] + vecs[2][2]/2 + 0.01) % vecs[2][2] - vecs[2][2]/2 - 0.01\n",
    "    TotalDipM[1] = (TotalDip[1] + vecs[1][1]/2) % vecs[1][1] - vecs[1][1]/2\n",
    "    TotalDipM[0] = (TotalDip[0] - (TotalDip[1] - TotalDipM[1])/vecs[1][1]*vecs[2][1] + vecs[0][0]/2) % vecs[0][0] - vecs[0][0]/2\n",
    "    return {'Ion':Ionic, 'Electronic':electric, 'Total':TotalDip, 'Mod':TotalDipM}\n",
    "    \n",
    "    print(vecs)\n",
    "    print(DIPOL)\n",
    "    np.savetxt(sys.stdout, TotalDipM, '%0.5f')\n",
    "\n",
    "def readdipScN(workdir):\n",
    "    POS = workdir + \"/POSCAR\"\n",
    "    INC = workdir + \"/INCAR\"\n",
    "    OUT = workdir + \"/OUTCAR\"\n",
    "    POSIN = !head -5 \"{POS##*/}\" | tail -3\n",
    "    INCIN = !grep DIPOL \"{INC##*/}\"\n",
    "    OUTIN = !grep dipole \"{OUT##*/}\"\n",
    "\n",
    "    vecs = np.array([[float(i) for i in j.split()] for j in POSIN])\n",
    "    Ionic = np.array([float(i) for i in OUTIN[1].split()[4:7]])\n",
    "    electric= np.array([float(i) for i in OUTIN[3].split()[5:8]])\n",
    "\n",
    "    TotalDip = Ionic + electric\n",
    "    TotalDipM = np.array(TotalDip)\n",
    "\n",
    "    dip = vecs[2][1]\n",
    "    TotalDipM[2] = (TotalDip[2] + 1 + 0.01) % (dip*2) - 1 - 0.01\n",
    "    TotalDipM[1] = (TotalDip[1] + 1 + 0.01) % (dip*2) - 1 - 0.01\n",
    "    TotalDipM[0] = (TotalDip[0] + 1 + 0.01) % (dip*2) - 1 - 0.01\n",
    "    return {'Ion':Ionic, 'Electronic':electric, 'Total':TotalDip, 'Mod':TotalDipM}\n",
    "    \n",
    "    print(vecs)\n",
    "    print(DIPOL)\n",
    "    np.savetxt(sys.stdout, TotalDipM, '%0.5f')\n",
    "    "
   ]
  },
  {
   "cell_type": "code",
   "execution_count": 2,
   "metadata": {},
   "outputs": [
    {
     "name": "stdout",
     "output_type": "stream",
     "text": [
      "[ 1.61026659e-06 -3.54558390e-01 -7.08668390e-01 -1.06178839e+00\n",
      " -1.41340839e+00 -1.76318839e+00 -2.11048419e+00 -2.45462419e+00\n",
      "  2.40496871e+00  2.06843871e+00  1.73571710e+00  1.40602710e+00\n",
      "  1.33398871e+00]\n"
     ]
    }
   ],
   "source": [
    "#path = \"/home/nadamski/ScN_figures/Polar_GaNScN/GaN_data/\"\n",
    "path = \"/home/nadamski/SP/GaN25_sp/GaN25_sp/\"\n",
    "folders = !ls \"{path##*/}\"\n",
    "r = len(folders)\n",
    "tf = np.zeros(r)\n",
    "for a in range(r):\n",
    "    lpath = path + folders[a]\n",
    "    dip = readdipGaN(lpath)\n",
    "    tf[a] = dip[\"Mod\"][2]\n",
    "\n",
    "x = np.array([float(j) for j in folders])\n",
    "cf = 1.6e-19/5.2000529025666484/2.7724226341815377/3.2013335674394536 * 1e20\n",
    "print(tf)\n",
    "tf = (tf - 0.01) % 5.2000529025666484 + 0.01 - 5.2000529025666484\n",
    "P_GaN = -cf*tf\n",
    "\n",
    "u_wz = 0.5 - x * (0.4995750046824270-0.3770187094116295)/11\n",
    "u_m_Ga = (0.5 - u_wz) * 2\n",
    "\n"
   ]
  },
  {
   "cell_type": "code",
   "execution_count": 3,
   "metadata": {},
   "outputs": [
    {
     "data": {
      "image/png": "[encoded data removed]",
      "text/plain": [
       "<Figure size 432x288 with 1 Axes>"
      ]
     },
     "metadata": {
      "needs_background": "light"
     },
     "output_type": "display_data"
    }
   ],
   "source": [
    "fig = plt.figure(figsize=(6,4))\n",
    "\n",
    "ax = plt.subplot(111)\n",
    "plt.plot(u_wz,-cf*tf,'b.')\n",
    "\n",
    "#plt.xlim([0.375, 0.5])\n",
    "#plt.ylim([0, 1.4])\n",
    "\n",
    "ax.set_xticklabels(ax.get_xticks(), fontsize=16)\n",
    "ax.set_yticklabels(ax.get_yticks(), fontsize=16)\n",
    "ax.yaxis.set_major_formatter(mtick.FormatStrFormatter('%.2f'))\n",
    "ax.xaxis.set_major_formatter(mtick.FormatStrFormatter('%.2f'))\n",
    "\n",
    "\n",
    "plt.xlabel('u-parameter', fontsize=16)\n",
    "plt.ylabel(r'Polarization (C/m$^2$)', fontsize=16)\n",
    "plt.title('GaN25 P_SP', fontsize=20)\n",
    "plt.savefig('GaN25_sp.png', bbox_inches='tight', format='png', dpi=300)\n",
    "plt.show()"
   ]
  },
  {
   "cell_type": "code",
   "execution_count": 4,
   "metadata": {},
   "outputs": [
    {
     "ename": "ValueError",
     "evalue": "could not convert string to float: 'head:'",
     "output_type": "error",
     "traceback": [
      "\u001b[0;31m---------------------------------------------------------------------------\u001b[0m",
      "\u001b[0;31mValueError\u001b[0m                                Traceback (most recent call last)",
      "\u001b[0;32m<ipython-input-4-d66c95b2aa6e>\u001b[0m in \u001b[0;36m<module>\u001b[0;34m\u001b[0m\n\u001b[1;32m      5\u001b[0m \u001b[0;32mfor\u001b[0m \u001b[0ma\u001b[0m \u001b[0;32min\u001b[0m \u001b[0mrange\u001b[0m\u001b[0;34m(\u001b[0m\u001b[0mr\u001b[0m\u001b[0;34m)\u001b[0m\u001b[0;34m:\u001b[0m\u001b[0;34m\u001b[0m\u001b[0;34m\u001b[0m\u001b[0m\n\u001b[1;32m      6\u001b[0m     \u001b[0mlpath\u001b[0m \u001b[0;34m=\u001b[0m \u001b[0mpath\u001b[0m \u001b[0;34m+\u001b[0m \u001b[0mfolders\u001b[0m\u001b[0;34m[\u001b[0m\u001b[0ma\u001b[0m\u001b[0;34m]\u001b[0m\u001b[0;34m\u001b[0m\u001b[0;34m\u001b[0m\u001b[0m\n\u001b[0;32m----> 7\u001b[0;31m     \u001b[0mdip\u001b[0m \u001b[0;34m=\u001b[0m \u001b[0mreaddipScN\u001b[0m\u001b[0;34m(\u001b[0m\u001b[0mlpath\u001b[0m\u001b[0;34m)\u001b[0m\u001b[0;34m\u001b[0m\u001b[0;34m\u001b[0m\u001b[0m\n\u001b[0m\u001b[1;32m      8\u001b[0m     \u001b[0mtf\u001b[0m\u001b[0;34m[\u001b[0m\u001b[0ma\u001b[0m\u001b[0;34m]\u001b[0m \u001b[0;34m=\u001b[0m \u001b[0msum\u001b[0m\u001b[0;34m(\u001b[0m\u001b[0mi\u001b[0m\u001b[0;34m**\u001b[0m\u001b[0;36m2\u001b[0m \u001b[0;32mfor\u001b[0m \u001b[0mi\u001b[0m \u001b[0;32min\u001b[0m \u001b[0mdip\u001b[0m\u001b[0;34m[\u001b[0m\u001b[0;34m\"Mod\"\u001b[0m\u001b[0;34m]\u001b[0m\u001b[0;34m)\u001b[0m\u001b[0;34m**\u001b[0m\u001b[0;36m0.5\u001b[0m\u001b[0;34m*\u001b[0m\u001b[0mnp\u001b[0m\u001b[0;34m.\u001b[0m\u001b[0msign\u001b[0m\u001b[0;34m(\u001b[0m\u001b[0mdip\u001b[0m\u001b[0;34m[\u001b[0m\u001b[0;34m\"Mod\"\u001b[0m\u001b[0;34m]\u001b[0m\u001b[0;34m[\u001b[0m\u001b[0;36m0\u001b[0m\u001b[0;34m]\u001b[0m\u001b[0;34m)\u001b[0m\u001b[0;34m\u001b[0m\u001b[0;34m\u001b[0m\u001b[0m\n\u001b[1;32m      9\u001b[0m \u001b[0;34m\u001b[0m\u001b[0m\n",
      "\u001b[0;32m<ipython-input-1-95e185937809>\u001b[0m in \u001b[0;36mreaddipScN\u001b[0;34m(workdir)\u001b[0m\n\u001b[1;32m     37\u001b[0m     \u001b[0mOUTIN\u001b[0m \u001b[0;34m=\u001b[0m \u001b[0mget_ipython\u001b[0m\u001b[0;34m(\u001b[0m\u001b[0;34m)\u001b[0m\u001b[0;34m.\u001b[0m\u001b[0mgetoutput\u001b[0m\u001b[0;34m(\u001b[0m\u001b[0;34m'grep dipole \"{OUT##*/}\"'\u001b[0m\u001b[0;34m)\u001b[0m\u001b[0;34m\u001b[0m\u001b[0;34m\u001b[0m\u001b[0m\n\u001b[1;32m     38\u001b[0m \u001b[0;34m\u001b[0m\u001b[0m\n\u001b[0;32m---> 39\u001b[0;31m     \u001b[0mvecs\u001b[0m \u001b[0;34m=\u001b[0m \u001b[0mnp\u001b[0m\u001b[0;34m.\u001b[0m\u001b[0marray\u001b[0m\u001b[0;34m(\u001b[0m\u001b[0;34m[\u001b[0m\u001b[0;34m[\u001b[0m\u001b[0mfloat\u001b[0m\u001b[0;34m(\u001b[0m\u001b[0mi\u001b[0m\u001b[0;34m)\u001b[0m \u001b[0;32mfor\u001b[0m \u001b[0mi\u001b[0m \u001b[0;32min\u001b[0m \u001b[0mj\u001b[0m\u001b[0;34m.\u001b[0m\u001b[0msplit\u001b[0m\u001b[0;34m(\u001b[0m\u001b[0;34m)\u001b[0m\u001b[0;34m]\u001b[0m \u001b[0;32mfor\u001b[0m \u001b[0mj\u001b[0m \u001b[0;32min\u001b[0m \u001b[0mPOSIN\u001b[0m\u001b[0;34m]\u001b[0m\u001b[0;34m)\u001b[0m\u001b[0;34m\u001b[0m\u001b[0;34m\u001b[0m\u001b[0m\n\u001b[0m\u001b[1;32m     40\u001b[0m     \u001b[0mIonic\u001b[0m \u001b[0;34m=\u001b[0m \u001b[0mnp\u001b[0m\u001b[0;34m.\u001b[0m\u001b[0marray\u001b[0m\u001b[0;34m(\u001b[0m\u001b[0;34m[\u001b[0m\u001b[0mfloat\u001b[0m\u001b[0;34m(\u001b[0m\u001b[0mi\u001b[0m\u001b[0;34m)\u001b[0m \u001b[0;32mfor\u001b[0m \u001b[0mi\u001b[0m \u001b[0;32min\u001b[0m \u001b[0mOUTIN\u001b[0m\u001b[0;34m[\u001b[0m\u001b[0;36m1\u001b[0m\u001b[0;34m]\u001b[0m\u001b[0;34m.\u001b[0m\u001b[0msplit\u001b[0m\u001b[0;34m(\u001b[0m\u001b[0;34m)\u001b[0m\u001b[0;34m[\u001b[0m\u001b[0;36m4\u001b[0m\u001b[0;34m:\u001b[0m\u001b[0;36m7\u001b[0m\u001b[0;34m]\u001b[0m\u001b[0;34m]\u001b[0m\u001b[0;34m)\u001b[0m\u001b[0;34m\u001b[0m\u001b[0;34m\u001b[0m\u001b[0m\n\u001b[1;32m     41\u001b[0m     \u001b[0melectric\u001b[0m\u001b[0;34m=\u001b[0m \u001b[0mnp\u001b[0m\u001b[0;34m.\u001b[0m\u001b[0marray\u001b[0m\u001b[0;34m(\u001b[0m\u001b[0;34m[\u001b[0m\u001b[0mfloat\u001b[0m\u001b[0;34m(\u001b[0m\u001b[0mi\u001b[0m\u001b[0;34m)\u001b[0m \u001b[0;32mfor\u001b[0m \u001b[0mi\u001b[0m \u001b[0;32min\u001b[0m \u001b[0mOUTIN\u001b[0m\u001b[0;34m[\u001b[0m\u001b[0;36m3\u001b[0m\u001b[0;34m]\u001b[0m\u001b[0;34m.\u001b[0m\u001b[0msplit\u001b[0m\u001b[0;34m(\u001b[0m\u001b[0;34m)\u001b[0m\u001b[0;34m[\u001b[0m\u001b[0;36m5\u001b[0m\u001b[0;34m:\u001b[0m\u001b[0;36m8\u001b[0m\u001b[0;34m]\u001b[0m\u001b[0;34m]\u001b[0m\u001b[0;34m)\u001b[0m\u001b[0;34m\u001b[0m\u001b[0;34m\u001b[0m\u001b[0m\n",
      "\u001b[0;32m<ipython-input-1-95e185937809>\u001b[0m in \u001b[0;36m<listcomp>\u001b[0;34m(.0)\u001b[0m\n\u001b[1;32m     37\u001b[0m     \u001b[0mOUTIN\u001b[0m \u001b[0;34m=\u001b[0m \u001b[0mget_ipython\u001b[0m\u001b[0;34m(\u001b[0m\u001b[0;34m)\u001b[0m\u001b[0;34m.\u001b[0m\u001b[0mgetoutput\u001b[0m\u001b[0;34m(\u001b[0m\u001b[0;34m'grep dipole \"{OUT##*/}\"'\u001b[0m\u001b[0;34m)\u001b[0m\u001b[0;34m\u001b[0m\u001b[0;34m\u001b[0m\u001b[0m\n\u001b[1;32m     38\u001b[0m \u001b[0;34m\u001b[0m\u001b[0m\n\u001b[0;32m---> 39\u001b[0;31m     \u001b[0mvecs\u001b[0m \u001b[0;34m=\u001b[0m \u001b[0mnp\u001b[0m\u001b[0;34m.\u001b[0m\u001b[0marray\u001b[0m\u001b[0;34m(\u001b[0m\u001b[0;34m[\u001b[0m\u001b[0;34m[\u001b[0m\u001b[0mfloat\u001b[0m\u001b[0;34m(\u001b[0m\u001b[0mi\u001b[0m\u001b[0;34m)\u001b[0m \u001b[0;32mfor\u001b[0m \u001b[0mi\u001b[0m \u001b[0;32min\u001b[0m \u001b[0mj\u001b[0m\u001b[0;34m.\u001b[0m\u001b[0msplit\u001b[0m\u001b[0;34m(\u001b[0m\u001b[0;34m)\u001b[0m\u001b[0;34m]\u001b[0m \u001b[0;32mfor\u001b[0m \u001b[0mj\u001b[0m \u001b[0;32min\u001b[0m \u001b[0mPOSIN\u001b[0m\u001b[0;34m]\u001b[0m\u001b[0;34m)\u001b[0m\u001b[0;34m\u001b[0m\u001b[0;34m\u001b[0m\u001b[0m\n\u001b[0m\u001b[1;32m     40\u001b[0m     \u001b[0mIonic\u001b[0m \u001b[0;34m=\u001b[0m \u001b[0mnp\u001b[0m\u001b[0;34m.\u001b[0m\u001b[0marray\u001b[0m\u001b[0;34m(\u001b[0m\u001b[0;34m[\u001b[0m\u001b[0mfloat\u001b[0m\u001b[0;34m(\u001b[0m\u001b[0mi\u001b[0m\u001b[0;34m)\u001b[0m \u001b[0;32mfor\u001b[0m \u001b[0mi\u001b[0m \u001b[0;32min\u001b[0m \u001b[0mOUTIN\u001b[0m\u001b[0;34m[\u001b[0m\u001b[0;36m1\u001b[0m\u001b[0;34m]\u001b[0m\u001b[0;34m.\u001b[0m\u001b[0msplit\u001b[0m\u001b[0;34m(\u001b[0m\u001b[0;34m)\u001b[0m\u001b[0;34m[\u001b[0m\u001b[0;36m4\u001b[0m\u001b[0;34m:\u001b[0m\u001b[0;36m7\u001b[0m\u001b[0;34m]\u001b[0m\u001b[0;34m]\u001b[0m\u001b[0;34m)\u001b[0m\u001b[0;34m\u001b[0m\u001b[0;34m\u001b[0m\u001b[0m\n\u001b[1;32m     41\u001b[0m     \u001b[0melectric\u001b[0m\u001b[0;34m=\u001b[0m \u001b[0mnp\u001b[0m\u001b[0;34m.\u001b[0m\u001b[0marray\u001b[0m\u001b[0;34m(\u001b[0m\u001b[0;34m[\u001b[0m\u001b[0mfloat\u001b[0m\u001b[0;34m(\u001b[0m\u001b[0mi\u001b[0m\u001b[0;34m)\u001b[0m \u001b[0;32mfor\u001b[0m \u001b[0mi\u001b[0m \u001b[0;32min\u001b[0m \u001b[0mOUTIN\u001b[0m\u001b[0;34m[\u001b[0m\u001b[0;36m3\u001b[0m\u001b[0;34m]\u001b[0m\u001b[0;34m.\u001b[0m\u001b[0msplit\u001b[0m\u001b[0;34m(\u001b[0m\u001b[0;34m)\u001b[0m\u001b[0;34m[\u001b[0m\u001b[0;36m5\u001b[0m\u001b[0;34m:\u001b[0m\u001b[0;36m8\u001b[0m\u001b[0;34m]\u001b[0m\u001b[0;34m]\u001b[0m\u001b[0;34m)\u001b[0m\u001b[0;34m\u001b[0m\u001b[0;34m\u001b[0m\u001b[0m\n",
      "\u001b[0;32m<ipython-input-1-95e185937809>\u001b[0m in \u001b[0;36m<listcomp>\u001b[0;34m(.0)\u001b[0m\n\u001b[1;32m     37\u001b[0m     \u001b[0mOUTIN\u001b[0m \u001b[0;34m=\u001b[0m \u001b[0mget_ipython\u001b[0m\u001b[0;34m(\u001b[0m\u001b[0;34m)\u001b[0m\u001b[0;34m.\u001b[0m\u001b[0mgetoutput\u001b[0m\u001b[0;34m(\u001b[0m\u001b[0;34m'grep dipole \"{OUT##*/}\"'\u001b[0m\u001b[0;34m)\u001b[0m\u001b[0;34m\u001b[0m\u001b[0;34m\u001b[0m\u001b[0m\n\u001b[1;32m     38\u001b[0m \u001b[0;34m\u001b[0m\u001b[0m\n\u001b[0;32m---> 39\u001b[0;31m     \u001b[0mvecs\u001b[0m \u001b[0;34m=\u001b[0m \u001b[0mnp\u001b[0m\u001b[0;34m.\u001b[0m\u001b[0marray\u001b[0m\u001b[0;34m(\u001b[0m\u001b[0;34m[\u001b[0m\u001b[0;34m[\u001b[0m\u001b[0mfloat\u001b[0m\u001b[0;34m(\u001b[0m\u001b[0mi\u001b[0m\u001b[0;34m)\u001b[0m \u001b[0;32mfor\u001b[0m \u001b[0mi\u001b[0m \u001b[0;32min\u001b[0m \u001b[0mj\u001b[0m\u001b[0;34m.\u001b[0m\u001b[0msplit\u001b[0m\u001b[0;34m(\u001b[0m\u001b[0;34m)\u001b[0m\u001b[0;34m]\u001b[0m \u001b[0;32mfor\u001b[0m \u001b[0mj\u001b[0m \u001b[0;32min\u001b[0m \u001b[0mPOSIN\u001b[0m\u001b[0;34m]\u001b[0m\u001b[0;34m)\u001b[0m\u001b[0;34m\u001b[0m\u001b[0;34m\u001b[0m\u001b[0m\n\u001b[0m\u001b[1;32m     40\u001b[0m     \u001b[0mIonic\u001b[0m \u001b[0;34m=\u001b[0m \u001b[0mnp\u001b[0m\u001b[0;34m.\u001b[0m\u001b[0marray\u001b[0m\u001b[0;34m(\u001b[0m\u001b[0;34m[\u001b[0m\u001b[0mfloat\u001b[0m\u001b[0;34m(\u001b[0m\u001b[0mi\u001b[0m\u001b[0;34m)\u001b[0m \u001b[0;32mfor\u001b[0m \u001b[0mi\u001b[0m \u001b[0;32min\u001b[0m \u001b[0mOUTIN\u001b[0m\u001b[0;34m[\u001b[0m\u001b[0;36m1\u001b[0m\u001b[0;34m]\u001b[0m\u001b[0;34m.\u001b[0m\u001b[0msplit\u001b[0m\u001b[0;34m(\u001b[0m\u001b[0;34m)\u001b[0m\u001b[0;34m[\u001b[0m\u001b[0;36m4\u001b[0m\u001b[0;34m:\u001b[0m\u001b[0;36m7\u001b[0m\u001b[0;34m]\u001b[0m\u001b[0;34m]\u001b[0m\u001b[0;34m)\u001b[0m\u001b[0;34m\u001b[0m\u001b[0;34m\u001b[0m\u001b[0m\n\u001b[1;32m     41\u001b[0m     \u001b[0melectric\u001b[0m\u001b[0;34m=\u001b[0m \u001b[0mnp\u001b[0m\u001b[0;34m.\u001b[0m\u001b[0marray\u001b[0m\u001b[0;34m(\u001b[0m\u001b[0;34m[\u001b[0m\u001b[0mfloat\u001b[0m\u001b[0;34m(\u001b[0m\u001b[0mi\u001b[0m\u001b[0;34m)\u001b[0m \u001b[0;32mfor\u001b[0m \u001b[0mi\u001b[0m \u001b[0;32min\u001b[0m \u001b[0mOUTIN\u001b[0m\u001b[0;34m[\u001b[0m\u001b[0;36m3\u001b[0m\u001b[0;34m]\u001b[0m\u001b[0;34m.\u001b[0m\u001b[0msplit\u001b[0m\u001b[0;34m(\u001b[0m\u001b[0;34m)\u001b[0m\u001b[0;34m[\u001b[0m\u001b[0;36m5\u001b[0m\u001b[0;34m:\u001b[0m\u001b[0;36m8\u001b[0m\u001b[0;34m]\u001b[0m\u001b[0;34m]\u001b[0m\u001b[0;34m)\u001b[0m\u001b[0;34m\u001b[0m\u001b[0;34m\u001b[0m\u001b[0m\n",
      "\u001b[0;31mValueError\u001b[0m: could not convert string to float: 'head:'"
     ]
    }
   ],
   "source": [
    "path = \"/home/nadamski/ScN_figures/Polar_GaNScN/ScN_data/\"\n",
    "folders = !ls \"{path##*/}\"\n",
    "r = len(folders)\n",
    "tf = np.zeros(r)\n",
    "for a in range(r):\n",
    "    lpath = path + folders[a]\n",
    "    dip = readdipScN(lpath)\n",
    "    tf[a] = sum(i**2 for i in dip[\"Mod\"])**0.5*np.sign(dip[\"Mod\"][0])\n",
    "\n",
    "x = np.array([float(j) for j in folders])/100\n",
    "cf = 16/2.2482935084854385**3/2\n",
    "P_ScN = cf*tf\n",
    "\n",
    "u_m_Sc = 3*x - 1\n"
   ]
  },
  {
   "cell_type": "code",
   "execution_count": 131,
   "metadata": {},
   "outputs": [
    {
     "data": {
      "image/png": "[encoded data removed]",
      "text/plain": [
       "<Figure size 432x288 with 1 Axes>"
      ]
     },
     "metadata": {
      "needs_background": "light"
     },
     "output_type": "display_data"
    }
   ],
   "source": [
    "fig = plt.figure(figsize=(6,4))\n",
    "\n",
    "ax = plt.subplot(111)\n",
    "plt.plot(x,-cf*tf,'b.')\n",
    "\n",
    "#plt.xlim([0.375, 0.5])\n",
    "#plt.ylim([0, 1.4])\n",
    "\n",
    "ax.set_xticklabels(ax.get_xticks(), fontsize=16)\n",
    "ax.set_yticklabels(ax.get_yticks(), fontsize=16)\n",
    "ax.yaxis.set_major_formatter(mtick.FormatStrFormatter('%.2f'))\n",
    "ax.xaxis.set_major_formatter(mtick.FormatStrFormatter('%.2f'))\n",
    "\n",
    "\n",
    "plt.xlabel('u-parameter', fontsize=16)\n",
    "plt.ylabel(r'Polarization (C/m$^2$)', fontsize=16)\n",
    "plt.title('GaN DIPOL at 0.5 0.5 0.25', fontsize=20)\n",
    "plt.savefig('GaN_SuhyunDIPOL.png', bbox_inches='tight', format='png', dpi=300)\n",
    "plt.show()"
   ]
  },
  {
   "cell_type": "code",
   "execution_count": 198,
   "metadata": {},
   "outputs": [
    {
     "data": {
      "image/png": "[encoded data removed]",
      "text/plain": [
       "<Figure size 432x288 with 1 Axes>"
      ]
     },
     "metadata": {
      "needs_background": "light"
     },
     "output_type": "display_data"
    }
   ],
   "source": [
    "fig = plt.figure(figsize=(6,4))\n",
    "\n",
    "ax = plt.subplot(111)\n",
    "plt.plot(u_m_Ga, P_GaN,'b')\n",
    "plt.plot(u_m_Ga[0], P_GaN[0],'b^',markersize=10)\n",
    "plt.plot(u_m_Ga[-1], P_GaN[-1],'bo',markersize=10)\n",
    "\n",
    "\n",
    "plt.plot(u_m_Sc, P_ScN,'r')\n",
    "plt.plot(u_m_Sc[0], P_ScN[0],'r^',markersize=10)\n",
    "plt.plot(u_m_Sc[-4], P_ScN[-4],'ro',markersize=10)\n",
    "\n",
    "\n",
    "plt.xlim([-0.1, 0.6])\n",
    "plt.ylim([-0.3, 3])\n",
    "plt.grid()\n",
    "\n",
    "ax.set_xticklabels(ax.get_xticks(), fontsize=16)\n",
    "ax.set_yticklabels(ax.get_yticks(), fontsize=16)\n",
    "ax.yaxis.set_major_formatter(mtick.FormatStrFormatter('%.2f'))\n",
    "ax.xaxis.set_major_formatter(mtick.FormatStrFormatter('%.2f'))\n",
    "\n",
    "plt.text(0.35, 2.70, r'ScN-$rs$', color='r', fontsize=16)\n",
    "plt.text(0.05, -0.25, r'layered ScN', color='r', fontsize=16)\n",
    "\n",
    "plt.text(0.09, 1.30, r'GaN-$wz$', color='b', fontsize=16)\n",
    "plt.text(-0.09, 0.2, r'GaN-$h$', color='b', fontsize=16)\n",
    "\n",
    "\n",
    "\n",
    "plt.xlabel(r'$u_{monolayer}$', fontsize=16)\n",
    "plt.ylabel(r'Polarization (C/m$^2$)', fontsize=16)\n",
    "plt.title('Polarization v. cation position', fontsize=20)\n",
    "plt.savefig('ScNGaN_polarization.png', bbox_inches='tight', format='png', dpi=300)\n",
    "plt.show()"
   ]
  },
  {
   "cell_type": "code",
   "execution_count": 20,
   "metadata": {},
   "outputs": [],
   "source": [
    "path = \"/home/nadamski/remote/cscratch/polar/GaN_suhyun_full/berry_phase_GaN/377\"\n",
    "POS = path + \"/POSCAR\"\n",
    "\n",
    "POSIN = !head -5 \"{POS##*/}\" | tail -3"
   ]
  },
  {
   "cell_type": "code",
   "execution_count": 28,
   "metadata": {},
   "outputs": [
    {
     "data": {
      "text/plain": [
       "['3.2172119663352943', '0.0000000000000000', '0.0000000000000000']"
      ]
     },
     "execution_count": 28,
     "metadata": {},
     "output_type": "execute_result"
    }
   ],
   "source": [
    "POSIN[0].split()"
   ]
  },
  {
   "cell_type": "code",
   "execution_count": 31,
   "metadata": {},
   "outputs": [
    {
     "data": {
      "text/plain": [
       "[[3.2172119663352943, 0.0, 0.0],\n",
       " [-1.6086059831676471, 2.786173522070064, 0.0],\n",
       " [0.0, 0.0, 5.243493501333745]]"
      ]
     },
     "execution_count": 31,
     "metadata": {},
     "output_type": "execute_result"
    }
   ],
   "source": [
    "[[float(i) for i in j.split()] for j in POSIN]"
   ]
  },
  {
   "cell_type": "code",
   "execution_count": 181,
   "metadata": {},
   "outputs": [],
   "source": [
    "from scipy.interpolate import interp1d\n",
    "cub = interp1d(u_m_Sc, P_ScN, kind='cubic')"
   ]
  },
  {
   "cell_type": "code",
   "execution_count": 186,
   "metadata": {},
   "outputs": [],
   "source": [
    "x = np.linspace(0, 0.5, 1000)"
   ]
  },
  {
   "cell_type": "code",
   "execution_count": 187,
   "metadata": {},
   "outputs": [
    {
     "data": {
      "text/plain": [
       "array([-9.66532433e-02, -9.37418741e-02, -9.08280018e-02, -8.79117084e-02,\n",
       "       -8.49930758e-02, -8.20721860e-02, -7.91491209e-02, -7.62239626e-02,\n",
       "       -7.32967929e-02, -7.03676939e-02, -6.74367475e-02, -6.45040357e-02,\n",
       "       -6.15696405e-02, -5.86336438e-02, -5.56961275e-02, -5.27571738e-02,\n",
       "       -4.98168645e-02, -4.68752815e-02, -4.39325070e-02, -4.09886227e-02,\n",
       "       -3.80437108e-02, -3.50978531e-02, -3.21511317e-02, -2.92036284e-02,\n",
       "       -2.62554254e-02, -2.33066045e-02, -2.03572477e-02, -1.74074369e-02,\n",
       "       -1.44572542e-02, -1.15067815e-02, -8.55610083e-03, -5.60529406e-03,\n",
       "       -2.65444321e-03,  2.96369757e-04,  3.24706288e-03,  6.19755418e-03,\n",
       "        9.14776170e-03,  1.20976035e-02,  1.50469975e-02,  1.79958619e-02,\n",
       "        2.09441146e-02,  2.38916737e-02,  2.68384572e-02,  2.97843831e-02,\n",
       "        3.27293695e-02,  3.56733344e-02,  3.86161959e-02,  4.15578719e-02,\n",
       "        4.44982805e-02,  4.74373398e-02,  5.03749677e-02,  5.33110823e-02,\n",
       "        5.62456017e-02,  5.91784438e-02,  6.21095267e-02,  6.50387685e-02,\n",
       "        6.79660871e-02,  7.08914006e-02,  7.38146270e-02,  7.67356844e-02,\n",
       "        7.96544908e-02,  8.25709641e-02,  8.54850226e-02,  8.83965841e-02,\n",
       "        9.13055668e-02,  9.42118886e-02,  9.71154676e-02,  1.00016222e-01,\n",
       "        1.02914069e-01,  1.05808928e-01,  1.08700716e-01,  1.11589351e-01,\n",
       "        1.14474752e-01,  1.17356836e-01,  1.20235522e-01,  1.23110727e-01,\n",
       "        1.25982370e-01,  1.28850368e-01,  1.31714639e-01,  1.34575103e-01,\n",
       "        1.37431676e-01,  1.40284276e-01,  1.43132823e-01,  1.45977233e-01,\n",
       "        1.48817424e-01,  1.51653316e-01,  1.54484825e-01,  1.57311871e-01,\n",
       "        1.60134370e-01,  1.62952241e-01,  1.65765402e-01,  1.68573771e-01,\n",
       "        1.71377266e-01,  1.74175805e-01,  1.76969306e-01,  1.79757688e-01,\n",
       "        1.82540867e-01,  1.85318763e-01,  1.88091293e-01,  1.90858375e-01,\n",
       "        1.93619927e-01,  1.96375897e-01,  1.99126319e-01,  2.01871243e-01,\n",
       "        2.04610720e-01,  2.07344799e-01,  2.10073531e-01,  2.12796967e-01,\n",
       "        2.15515156e-01,  2.18228150e-01,  2.20935997e-01,  2.23638750e-01,\n",
       "        2.26336457e-01,  2.29029169e-01,  2.31716937e-01,  2.34399811e-01,\n",
       "        2.37077841e-01,  2.39751078e-01,  2.42419571e-01,  2.45083371e-01,\n",
       "        2.47742529e-01,  2.50397094e-01,  2.53047118e-01,  2.55692650e-01,\n",
       "        2.58333740e-01,  2.60970439e-01,  2.63602797e-01,  2.66230865e-01,\n",
       "        2.68854693e-01,  2.71474331e-01,  2.74089830e-01,  2.76701239e-01,\n",
       "        2.79308609e-01,  2.81911991e-01,  2.84511434e-01,  2.87106989e-01,\n",
       "        2.89698707e-01,  2.92286637e-01,  2.94870830e-01,  2.97451337e-01,\n",
       "        3.00028207e-01,  3.02601491e-01,  3.05171238e-01,  3.07737501e-01,\n",
       "        3.10300328e-01,  3.12859770e-01,  3.15415878e-01,  3.17968701e-01,\n",
       "        3.20518290e-01,  3.23064696e-01,  3.25607968e-01,  3.28148157e-01,\n",
       "        3.30685313e-01,  3.33219487e-01,  3.35750729e-01,  3.38279089e-01,\n",
       "        3.40804617e-01,  3.43327364e-01,  3.45847380e-01,  3.48364716e-01,\n",
       "        3.50879421e-01,  3.53391544e-01,  3.55901130e-01,  3.58408222e-01,\n",
       "        3.60912864e-01,  3.63415099e-01,  3.65914971e-01,  3.68412524e-01,\n",
       "        3.70907800e-01,  3.73400845e-01,  3.75891700e-01,  3.78380411e-01,\n",
       "        3.80867020e-01,  3.83351572e-01,  3.85834109e-01,  3.88314675e-01,\n",
       "        3.90793315e-01,  3.93270071e-01,  3.95744987e-01,  3.98218107e-01,\n",
       "        4.00689474e-01,  4.03159132e-01,  4.05627125e-01,  4.08093495e-01,\n",
       "        4.10558288e-01,  4.13021546e-01,  4.15483313e-01,  4.17943632e-01,\n",
       "        4.20402548e-01,  4.22860103e-01,  4.25316342e-01,  4.27771308e-01,\n",
       "        4.30225044e-01,  4.32677595e-01,  4.35129003e-01,  4.37579313e-01,\n",
       "        4.40028567e-01,  4.42476810e-01,  4.44924086e-01,  4.47370437e-01,\n",
       "        4.49815907e-01,  4.52260541e-01,  4.54704381e-01,  4.57147471e-01,\n",
       "        4.59589855e-01,  4.62031577e-01,  4.64472679e-01,  4.66913206e-01,\n",
       "        4.69353202e-01,  4.71792709e-01,  4.74231771e-01,  4.76670433e-01,\n",
       "        4.79108737e-01,  4.81546727e-01,  4.83984447e-01,  4.86421941e-01,\n",
       "        4.88859251e-01,  4.91296422e-01,  4.93733498e-01,  4.96170521e-01,\n",
       "        4.98607535e-01,  5.01044585e-01,  5.03481713e-01,  5.05918964e-01,\n",
       "        5.08356380e-01,  5.10794006e-01,  5.13231884e-01,  5.15670060e-01,\n",
       "        5.18108575e-01,  5.20547475e-01,  5.22986801e-01,  5.25426599e-01,\n",
       "        5.27866912e-01,  5.30307783e-01,  5.32749255e-01,  5.35191373e-01,\n",
       "        5.37634180e-01,  5.40077720e-01,  5.42522036e-01,  5.44967172e-01,\n",
       "        5.47413171e-01,  5.49860077e-01,  5.52307934e-01,  5.54756786e-01,\n",
       "        5.57206675e-01,  5.59657645e-01,  5.62109741e-01,  5.64563005e-01,\n",
       "        5.67017482e-01,  5.69473214e-01,  5.71930246e-01,  5.74388621e-01,\n",
       "        5.76848383e-01,  5.79309575e-01,  5.81772240e-01,  5.84236424e-01,\n",
       "        5.86702168e-01,  5.89169517e-01,  5.91638514e-01,  5.94109203e-01,\n",
       "        5.96581628e-01,  5.99055832e-01,  6.01531858e-01,  6.04009751e-01,\n",
       "        6.06489554e-01,  6.08971310e-01,  6.11455063e-01,  6.13940857e-01,\n",
       "        6.16428735e-01,  6.18918741e-01,  6.21410919e-01,  6.23905311e-01,\n",
       "        6.26401963e-01,  6.28900916e-01,  6.31402216e-01,  6.33905905e-01,\n",
       "        6.36412027e-01,  6.38920626e-01,  6.41431746e-01,  6.43945429e-01,\n",
       "        6.46461719e-01,  6.48980639e-01,  6.51502170e-01,  6.54026292e-01,\n",
       "        6.56552984e-01,  6.59082224e-01,  6.61613992e-01,  6.64148266e-01,\n",
       "        6.66685025e-01,  6.69224248e-01,  6.71765914e-01,  6.74310002e-01,\n",
       "        6.76856491e-01,  6.79405359e-01,  6.81956585e-01,  6.84510149e-01,\n",
       "        6.87066029e-01,  6.89624205e-01,  6.92184654e-01,  6.94747356e-01,\n",
       "        6.97312290e-01,  6.99879434e-01,  7.02448768e-01,  7.05020270e-01,\n",
       "        7.07593920e-01,  7.10169696e-01,  7.12747576e-01,  7.15327541e-01,\n",
       "        7.17909568e-01,  7.20493638e-01,  7.23079727e-01,  7.25667816e-01,\n",
       "        7.28257884e-01,  7.30849908e-01,  7.33443869e-01,  7.36039745e-01,\n",
       "        7.38637514e-01,  7.41237156e-01,  7.43838650e-01,  7.46441974e-01,\n",
       "        7.49047108e-01,  7.51654030e-01,  7.54262719e-01,  7.56873154e-01,\n",
       "        7.59485313e-01,  7.62099177e-01,  7.64714723e-01,  7.67331931e-01,\n",
       "        7.69950779e-01,  7.72571247e-01,  7.75193312e-01,  7.77816955e-01,\n",
       "        7.80442154e-01,  7.83068887e-01,  7.85697134e-01,  7.88326874e-01,\n",
       "        7.90958085e-01,  7.93590747e-01,  7.96224837e-01,  7.98860336e-01,\n",
       "        8.01497222e-01,  8.04135474e-01,  8.06775070e-01,  8.09415990e-01,\n",
       "        8.12058213e-01,  8.14701717e-01,  8.17346481e-01,  8.19992484e-01,\n",
       "        8.22639706e-01,  8.25288124e-01,  8.27937718e-01,  8.30588467e-01,\n",
       "        8.33240349e-01,  8.35893344e-01,  8.38547430e-01,  8.41202586e-01,\n",
       "        8.43858791e-01,  8.46516024e-01,  8.49174265e-01,  8.51833490e-01,\n",
       "        8.54493681e-01,  8.57154815e-01,  8.59816871e-01,  8.62479829e-01,\n",
       "        8.65143666e-01,  8.67808363e-01,  8.70473897e-01,  8.73140249e-01,\n",
       "        8.75807396e-01,  8.78475317e-01,  8.81143992e-01,  8.83813399e-01,\n",
       "        8.86483518e-01,  8.89154326e-01,  8.91825803e-01,  8.94497929e-01,\n",
       "        8.97170680e-01,  8.99844038e-01,  9.02517980e-01,  9.05192485e-01,\n",
       "        9.07867532e-01,  9.10543101e-01,  9.13219170e-01,  9.15895717e-01,\n",
       "        9.18572722e-01,  9.21250164e-01,  9.23928021e-01,  9.26606273e-01,\n",
       "        9.29284898e-01,  9.31963875e-01,  9.34643183e-01,  9.37322801e-01,\n",
       "        9.40002708e-01,  9.42682883e-01,  9.45363304e-01,  9.48043950e-01,\n",
       "        9.50724801e-01,  9.53405835e-01,  9.56087031e-01,  9.58768368e-01,\n",
       "        9.61449826e-01,  9.64131388e-01,  9.66813049e-01,  9.69494803e-01,\n",
       "        9.72176643e-01,  9.74858565e-01,  9.77540561e-01,  9.80222625e-01,\n",
       "        9.82904752e-01,  9.85586936e-01,  9.88269170e-01,  9.90951449e-01,\n",
       "        9.93633766e-01,  9.96316116e-01,  9.98998492e-01,  1.00168089e+00,\n",
       "        1.00436330e+00,  1.00704572e+00,  1.00972814e+00,  1.01241056e+00,\n",
       "        1.01509297e+00,  1.01777536e+00,  1.02045773e+00,  1.02314008e+00,\n",
       "        1.02582239e+00,  1.02850466e+00,  1.03118688e+00,  1.03386905e+00,\n",
       "        1.03655117e+00,  1.03923322e+00,  1.04191520e+00,  1.04459710e+00,\n",
       "        1.04727893e+00,  1.04996066e+00,  1.05264230e+00,  1.05532384e+00,\n",
       "        1.05800528e+00,  1.06068660e+00,  1.06336780e+00,  1.06604888e+00,\n",
       "        1.06872984e+00,  1.07141065e+00,  1.07409132e+00,  1.07677185e+00,\n",
       "        1.07945222e+00,  1.08213243e+00,  1.08481247e+00,  1.08749234e+00,\n",
       "        1.09017203e+00,  1.09285154e+00,  1.09553086e+00,  1.09820998e+00,\n",
       "        1.10088890e+00,  1.10356761e+00,  1.10624611e+00,  1.10892438e+00,\n",
       "        1.11160243e+00,  1.11428025e+00,  1.11695783e+00,  1.11963516e+00,\n",
       "        1.12231225e+00,  1.12498907e+00,  1.12766564e+00,  1.13034193e+00,\n",
       "        1.13301795e+00,  1.13569369e+00,  1.13836915e+00,  1.14104431e+00,\n",
       "        1.14371917e+00,  1.14639373e+00,  1.14906797e+00,  1.15174190e+00,\n",
       "        1.15441551e+00,  1.15708879e+00,  1.15976173e+00,  1.16243433e+00,\n",
       "        1.16510659e+00,  1.16777849e+00,  1.17045003e+00,  1.17312121e+00,\n",
       "        1.17579202e+00,  1.17846245e+00,  1.18113250e+00,  1.18380215e+00,\n",
       "        1.18647142e+00,  1.18914028e+00,  1.19180873e+00,  1.19447677e+00,\n",
       "        1.19714440e+00,  1.19981159e+00,  1.20247836e+00,  1.20514469e+00,\n",
       "        1.20781057e+00,  1.21047601e+00,  1.21314099e+00,  1.21580551e+00,\n",
       "        1.21846956e+00,  1.22113314e+00,  1.22379624e+00,  1.22645885e+00,\n",
       "        1.22912097e+00,  1.23178260e+00,  1.23444372e+00,  1.23710433e+00,\n",
       "        1.23976442e+00,  1.24242400e+00,  1.24508305e+00,  1.24774156e+00,\n",
       "        1.25039953e+00,  1.25305696e+00,  1.25571384e+00,  1.25837015e+00,\n",
       "        1.26102591e+00,  1.26368109e+00,  1.26633570e+00,  1.26898973e+00,\n",
       "        1.27164317e+00,  1.27429601e+00,  1.27694826e+00,  1.27959990e+00,\n",
       "        1.28225093e+00,  1.28490135e+00,  1.28755119e+00,  1.29020048e+00,\n",
       "        1.29284922e+00,  1.29549744e+00,  1.29814516e+00,  1.30079241e+00,\n",
       "        1.30343920e+00,  1.30608556e+00,  1.30873150e+00,  1.31137706e+00,\n",
       "        1.31402224e+00,  1.31666707e+00,  1.31931158e+00,  1.32195577e+00,\n",
       "        1.32459969e+00,  1.32724333e+00,  1.32988674e+00,  1.33252992e+00,\n",
       "        1.33517290e+00,  1.33781570e+00,  1.34045834e+00,  1.34310085e+00,\n",
       "        1.34574323e+00,  1.34838553e+00,  1.35102775e+00,  1.35366991e+00,\n",
       "        1.35631205e+00,  1.35895417e+00,  1.36159631e+00,  1.36423848e+00,\n",
       "        1.36688070e+00,  1.36952299e+00,  1.37216538e+00,  1.37480789e+00,\n",
       "        1.37745054e+00,  1.38009335e+00,  1.38273633e+00,  1.38537952e+00,\n",
       "        1.38802293e+00,  1.39066659e+00,  1.39331051e+00,  1.39595471e+00,\n",
       "        1.39859923e+00,  1.40124407e+00,  1.40388926e+00,  1.40653483e+00,\n",
       "        1.40918079e+00,  1.41182716e+00,  1.41447396e+00,  1.41712122e+00,\n",
       "        1.41976896e+00,  1.42241720e+00,  1.42506596e+00,  1.42771526e+00,\n",
       "        1.43036512e+00,  1.43301556e+00,  1.43566661e+00,  1.43831828e+00,\n",
       "        1.44097060e+00,  1.44362359e+00,  1.44627727e+00,  1.44893165e+00,\n",
       "        1.45158677e+00,  1.45424265e+00,  1.45689929e+00,  1.45955673e+00,\n",
       "        1.46221499e+00,  1.46487409e+00,  1.46753404e+00,  1.47019488e+00,\n",
       "        1.47285661e+00,  1.47551927e+00,  1.47818287e+00,  1.48084744e+00,\n",
       "        1.48351299e+00,  1.48617955e+00,  1.48884714e+00,  1.49151578e+00,\n",
       "        1.49418549e+00,  1.49685629e+00,  1.49952820e+00,  1.50220125e+00,\n",
       "        1.50487545e+00,  1.50755083e+00,  1.51022741e+00,  1.51290521e+00,\n",
       "        1.51558425e+00,  1.51826455e+00,  1.52094613e+00,  1.52362901e+00,\n",
       "        1.52631323e+00,  1.52899878e+00,  1.53168571e+00,  1.53437402e+00,\n",
       "        1.53706375e+00,  1.53975490e+00,  1.54244751e+00,  1.54514159e+00,\n",
       "        1.54783717e+00,  1.55053426e+00,  1.55323289e+00,  1.55593307e+00,\n",
       "        1.55863484e+00,  1.56133821e+00,  1.56404320e+00,  1.56674983e+00,\n",
       "        1.56945813e+00,  1.57216811e+00,  1.57487980e+00,  1.57759321e+00,\n",
       "        1.58030838e+00,  1.58302532e+00,  1.58574404e+00,  1.58846458e+00,\n",
       "        1.59118696e+00,  1.59391119e+00,  1.59663729e+00,  1.59936530e+00,\n",
       "        1.60209522e+00,  1.60482706e+00,  1.60756083e+00,  1.61029651e+00,\n",
       "        1.61303411e+00,  1.61577362e+00,  1.61851505e+00,  1.62125837e+00,\n",
       "        1.62400360e+00,  1.62675073e+00,  1.62949976e+00,  1.63225068e+00,\n",
       "        1.63500349e+00,  1.63775819e+00,  1.64051478e+00,  1.64327324e+00,\n",
       "        1.64603359e+00,  1.64879581e+00,  1.65155990e+00,  1.65432587e+00,\n",
       "        1.65709370e+00,  1.65986339e+00,  1.66263494e+00,  1.66540835e+00,\n",
       "        1.66818362e+00,  1.67096073e+00,  1.67373970e+00,  1.67652051e+00,\n",
       "        1.67930316e+00,  1.68208765e+00,  1.68487398e+00,  1.68766214e+00,\n",
       "        1.69045213e+00,  1.69324395e+00,  1.69603759e+00,  1.69883305e+00,\n",
       "        1.70163033e+00,  1.70442943e+00,  1.70723033e+00,  1.71003305e+00,\n",
       "        1.71283757e+00,  1.71564389e+00,  1.71845201e+00,  1.72126193e+00,\n",
       "        1.72407365e+00,  1.72688715e+00,  1.72970244e+00,  1.73251952e+00,\n",
       "        1.73533837e+00,  1.73815901e+00,  1.74098142e+00,  1.74380560e+00,\n",
       "        1.74663155e+00,  1.74945927e+00,  1.75228875e+00,  1.75511999e+00,\n",
       "        1.75795298e+00,  1.76078774e+00,  1.76362424e+00,  1.76646249e+00,\n",
       "        1.76930248e+00,  1.77214422e+00,  1.77498769e+00,  1.77783290e+00,\n",
       "        1.78067985e+00,  1.78352852e+00,  1.78637892e+00,  1.78923104e+00,\n",
       "        1.79208488e+00,  1.79494044e+00,  1.79779772e+00,  1.80065670e+00,\n",
       "        1.80351740e+00,  1.80637980e+00,  1.80924390e+00,  1.81210970e+00,\n",
       "        1.81497720e+00,  1.81784639e+00,  1.82071727e+00,  1.82358983e+00,\n",
       "        1.82646408e+00,  1.82934002e+00,  1.83221762e+00,  1.83509691e+00,\n",
       "        1.83797786e+00,  1.84086049e+00,  1.84374478e+00,  1.84663073e+00,\n",
       "        1.84951834e+00,  1.85240761e+00,  1.85529853e+00,  1.85819111e+00,\n",
       "        1.86108533e+00,  1.86398119e+00,  1.86687869e+00,  1.86977784e+00,\n",
       "        1.87267862e+00,  1.87558103e+00,  1.87848507e+00,  1.88139073e+00,\n",
       "        1.88429802e+00,  1.88720693e+00,  1.89011746e+00,  1.89302960e+00,\n",
       "        1.89594335e+00,  1.89885871e+00,  1.90177567e+00,  1.90469423e+00,\n",
       "        1.90761440e+00,  1.91053616e+00,  1.91345951e+00,  1.91638445e+00,\n",
       "        1.91931098e+00,  1.92223909e+00,  1.92516878e+00,  1.92810005e+00,\n",
       "        1.93103289e+00,  1.93396731e+00,  1.93690329e+00,  1.93984084e+00,\n",
       "        1.94277995e+00,  1.94572066e+00,  1.94866300e+00,  1.95160702e+00,\n",
       "        1.95455276e+00,  1.95750026e+00,  1.96044957e+00,  1.96340072e+00,\n",
       "        1.96635376e+00,  1.96930873e+00,  1.97226567e+00,  1.97522462e+00,\n",
       "        1.97818564e+00,  1.98114875e+00,  1.98411400e+00,  1.98708144e+00,\n",
       "        1.99005110e+00,  1.99302302e+00,  1.99599726e+00,  1.99897385e+00,\n",
       "        2.00195283e+00,  2.00493424e+00,  2.00791814e+00,  2.01090455e+00,\n",
       "        2.01389353e+00,  2.01688511e+00,  2.01987933e+00,  2.02287624e+00,\n",
       "        2.02587589e+00,  2.02887830e+00,  2.03188353e+00,  2.03489162e+00,\n",
       "        2.03790261e+00,  2.04091653e+00,  2.04393344e+00,  2.04695338e+00,\n",
       "        2.04997638e+00,  2.05300249e+00,  2.05603175e+00,  2.05906420e+00,\n",
       "        2.06209989e+00,  2.06513886e+00,  2.06818115e+00,  2.07122680e+00,\n",
       "        2.07427585e+00,  2.07732835e+00,  2.08038433e+00,  2.08344385e+00,\n",
       "        2.08650694e+00,  2.08957364e+00,  2.09264400e+00,  2.09571806e+00,\n",
       "        2.09879586e+00,  2.10187744e+00,  2.10496285e+00,  2.10805213e+00,\n",
       "        2.11114531e+00,  2.11424244e+00,  2.11734357e+00,  2.12044873e+00,\n",
       "        2.12355797e+00,  2.12667133e+00,  2.12978886e+00,  2.13291058e+00,\n",
       "        2.13603655e+00,  2.13916681e+00,  2.14230140e+00,  2.14544036e+00,\n",
       "        2.14858374e+00,  2.15173157e+00,  2.15488391e+00,  2.15804078e+00,\n",
       "        2.16120223e+00,  2.16436831e+00,  2.16753906e+00,  2.17071451e+00,\n",
       "        2.17389472e+00,  2.17707972e+00,  2.18026956e+00,  2.18346427e+00,\n",
       "        2.18666390e+00,  2.18986850e+00,  2.19307810e+00,  2.19629274e+00,\n",
       "        2.19951247e+00,  2.20273733e+00,  2.20596737e+00,  2.20920262e+00,\n",
       "        2.21244312e+00,  2.21568892e+00,  2.21894007e+00,  2.22219660e+00,\n",
       "        2.22545855e+00,  2.22872597e+00,  2.23199889e+00,  2.23527737e+00,\n",
       "        2.23856144e+00,  2.24185115e+00,  2.24514654e+00,  2.24844764e+00,\n",
       "        2.25175451e+00,  2.25506718e+00,  2.25838569e+00,  2.26171010e+00,\n",
       "        2.26504043e+00,  2.26837674e+00,  2.27171906e+00,  2.27506743e+00,\n",
       "        2.27842191e+00,  2.28178253e+00,  2.28514932e+00,  2.28852235e+00,\n",
       "        2.29190164e+00,  2.29528724e+00,  2.29867919e+00,  2.30207753e+00,\n",
       "        2.30548231e+00,  2.30889356e+00,  2.31231134e+00,  2.31573568e+00,\n",
       "        2.31916658e+00,  2.32260382e+00,  2.32604708e+00,  2.32949607e+00,\n",
       "        2.33295047e+00,  2.33640997e+00,  2.33987426e+00,  2.34334304e+00,\n",
       "        2.34681600e+00,  2.35029282e+00,  2.35377320e+00,  2.35725683e+00,\n",
       "        2.36074341e+00,  2.36423261e+00,  2.36772414e+00,  2.37121769e+00,\n",
       "        2.37471294e+00,  2.37820959e+00,  2.38170734e+00,  2.38520586e+00,\n",
       "        2.38870485e+00,  2.39220401e+00,  2.39570302e+00,  2.39920158e+00,\n",
       "        2.40269937e+00,  2.40619610e+00,  2.40969144e+00,  2.41318509e+00,\n",
       "        2.41667675e+00,  2.42016610e+00,  2.42365284e+00,  2.42713665e+00,\n",
       "        2.43061723e+00,  2.43409427e+00,  2.43756746e+00,  2.44103650e+00,\n",
       "        2.44450106e+00,  2.44796085e+00,  2.45141556e+00,  2.45486487e+00,\n",
       "        2.45830848e+00,  2.46174608e+00,  2.46517737e+00,  2.46860202e+00,\n",
       "        2.47201974e+00,  2.47543021e+00,  2.47883313e+00,  2.48222818e+00,\n",
       "        2.48561507e+00,  2.48899348e+00,  2.49236309e+00,  2.49572361e+00,\n",
       "        2.49907473e+00,  2.50241612e+00,  2.50574750e+00,  2.50906854e+00,\n",
       "        2.51237895e+00,  2.51567840e+00,  2.51896660e+00,  2.52224323e+00,\n",
       "        2.52550822e+00,  2.52876267e+00,  2.53200801e+00,  2.53524567e+00,\n",
       "        2.53847708e+00,  2.54170368e+00,  2.54492691e+00,  2.54814819e+00,\n",
       "        2.55136897e+00,  2.55459067e+00,  2.55781473e+00,  2.56104258e+00,\n",
       "        2.56427565e+00,  2.56751539e+00,  2.57076322e+00,  2.57402058e+00,\n",
       "        2.57728890e+00,  2.58056962e+00,  2.58386416e+00,  2.58717397e+00,\n",
       "        2.59050048e+00,  2.59384511e+00,  2.59720932e+00,  2.60059452e+00,\n",
       "        2.60400215e+00,  2.60743365e+00,  2.61089045e+00,  2.61437398e+00,\n",
       "        2.61788568e+00,  2.62142699e+00,  2.62499933e+00,  2.62860414e+00,\n",
       "        2.63224285e+00,  2.63591690e+00,  2.63962772e+00,  2.64337675e+00,\n",
       "        2.64716541e+00,  2.65099515e+00,  2.65486739e+00,  2.65878358e+00,\n",
       "        2.66274514e+00,  2.66675350e+00,  2.67081011e+00,  2.67491640e+00,\n",
       "        2.67907379e+00,  2.68328373e+00,  2.68754764e+00,  2.69186697e+00,\n",
       "        2.69624314e+00,  2.70067759e+00,  2.70517176e+00,  2.70972707e+00,\n",
       "        2.71434496e+00,  2.71902686e+00,  2.72373374e+00,  2.72826174e+00,\n",
       "        2.73236505e+00,  2.73579784e+00,  2.73831431e+00,  2.74122512e+00])"
      ]
     },
     "execution_count": 187,
     "metadata": {},
     "output_type": "execute_result"
    }
   ],
   "source": [
    "cub(x)"
   ]
  },
  {
   "cell_type": "code",
   "execution_count": 191,
   "metadata": {},
   "outputs": [
    {
     "data": {
      "text/plain": [
       "0.00029636975697476054"
      ]
     },
     "execution_count": 191,
     "metadata": {},
     "output_type": "execute_result"
    }
   ],
   "source": [
    "cub(x)[33]"
   ]
  },
  {
   "cell_type": "code",
   "execution_count": 6,
   "metadata": {},
   "outputs": [],
   "source": [
    "a8 = [24.68691+1.32064, 5.0082656966862480, 5.4199707562163688, 6.2573625562605475]\n",
    "a7 = [24.64970+1.89514, 5.0303820436217093, 5.5132963370035331, 6.3755976626100654]\n",
    "a6 = [24.24301+2.84777, 5.0047792179943400, 5.6229056906795245, 6.4988592568469938]\n",
    "a5 = [24.37905+3.26830, 5.0516759203417028, 5.6910944939061476, 6.6291277240042001]\n",
    "a4 = [31.87594-3.54678, 5.0151379723133953, 5.7824555911600948, 6.7913164649016142]\n",
    "a3 = [19.64542+3.04570, 4.5723200231819412, 6.0589359077676566, 7.0967865102725680]\n",
    "a2 = [18.44335-2.57077, 4.4817953528515044, 6.2584256762325525, 7.2163398896011142]\n",
    "a1 = [18.16030-1.40494, 4.4786640852492834, 6.3409100658611903, 7.3496313476596100]\n",
    "a0 = [17.86869+0.03339, 4.4833031162426442, 6.4379070776774023, 7.4467802387832407]\n"
   ]
  },
  {
   "cell_type": "code",
   "execution_count": 7,
   "metadata": {},
   "outputs": [
    {
     "data": {
      "text/plain": [
       "[26.007550000000002, 5.008265696686248, 5.419970756216369, 6.2573625562605475]"
      ]
     },
     "execution_count": 7,
     "metadata": {},
     "output_type": "execute_result"
    }
   ],
   "source": [
    "a8"
   ]
  },
  {
   "cell_type": "code",
   "execution_count": 8,
   "metadata": {},
   "outputs": [],
   "source": [
    "A = np.array([(a8[0]-8*a8[1]) * -16 / (a8[1]*a8[2]*a8[3]),\n",
    "            (a7[0]-8*a7[1]) * -16 / (a7[1]*a7[2]*a7[3]),\n",
    "            (a6[0]-8*a6[1]) * -16 / (a6[1]*a6[2]*a6[3]),\n",
    "            (a5[0]-8*a5[1]) * -16 / (a5[1]*a5[2]*a5[3]),\n",
    "            (a4[0]-8*a4[1]) * -16 / (a4[1]*a4[2]*a4[3]),\n",
    "            (a3[0]-6*a3[1]) * -16 / (a3[1]*a3[2]*a3[3]),\n",
    "            (a2[0]-4*a2[1]) * -16 / (a2[1]*a2[2]*a2[3]),\n",
    "            (a1[0]-4*a1[1]) * -16 / (a1[1]*a1[2]*a1[3]),\n",
    "            (a0[0]-4*a0[1]) * -16 / (a0[1]*a0[2]*a0[3])])"
   ]
  },
  {
   "cell_type": "code",
   "execution_count": 9,
   "metadata": {},
   "outputs": [
    {
     "data": {
      "text/plain": [
       "-0.0023175128276733616"
      ]
     },
     "execution_count": 9,
     "metadata": {},
     "output_type": "execute_result"
    }
   ],
   "source": [
    "(a0[0]-4*a0[1]) * 16 / (a0[1]*a0[2]*a0[3])"
   ]
  },
  {
   "cell_type": "code",
   "execution_count": 28,
   "metadata": {},
   "outputs": [
    {
     "data": {
      "image/png": "[encoded data removed]",
      "text/plain": [
       "<Figure size 432x288 with 1 Axes>"
      ]
     },
     "metadata": {
      "needs_background": "light"
     },
     "output_type": "display_data"
    }
   ],
   "source": [
    "from matplotlib.ticker import FormatStrFormatter\n",
    "\n",
    "fig = plt.figure(figsize=(6,4))\n",
    "ax = plt.subplot(111)\n",
    "\n",
    "plt.ylim([0, 1.4])\n",
    "\n",
    "plt.plot(np.linspace(0, 1, 9), A, '--', color='C0', alpha=0.5, marker='o')\n",
    "plt.plot(np.linspace(0, 0.375, 4), A[0:4], color='C0', marker='o')\n",
    "plt.ylabel(r'Polarization (C/m$^2$)', fontsize=16)\n",
    "ax.set_yticklabels(ax.get_yticks(), fontsize=16)\n",
    "ax.set_xticklabels(ax.get_xticks(), fontsize=16)\n",
    "\n",
    "ax.xaxis.set_major_formatter(FormatStrFormatter('%.2f'))\n",
    "ax.yaxis.set_major_formatter(FormatStrFormatter('%.1f'))\n",
    "\n",
    "#plt.title(u'Wurtzite Al$_x$Sc$_{1-x}$N',fontdict={'size':16})\n",
    "\n",
    "\n",
    "#plt.xlabel(r'Al$_x$Sc$_{8-x}$N$_8$', fontsize=16)\n",
    "plt.xlabel(r'Sc concentration', fontsize=16)\n",
    "\n",
    "n = 8\n",
    "plt.plot(n/8, A[n], color='red', marker='o', markersize=10)\n",
    "plt.savefig('/home/nadamski/ScN_gif/AlScN/figs/{}.png'.format(n), bbox_inches='tight', format='png', dpi=300)\n",
    "\n"
   ]
  },
  {
   "cell_type": "code",
   "execution_count": 51,
   "metadata": {},
   "outputs": [
    {
     "data": {
      "text/plain": [
       "array([  0.      ,  -2.0775  ,  -4.12913 ,  -6.143708,  -8.124188,\n",
       "       -10.081208, -12.028266])"
      ]
     },
     "execution_count": 51,
     "metadata": {},
     "output_type": "execute_result"
    }
   ],
   "source": [
    "np.array([-64.45388 + 4.02836, -63.13541 + 0.63239, -61.81695 + -2.73770, \\\n",
    "          -60.49848 + 4.00017 - 2*5.0354590000000004, -59.18022 + 0.70143 - 2*5.0354590000000004, \\\n",
    "          -57.86175 + -2.57406 - 2*5.0354590000000004, -56.54329 + 4.23134 - 4*5.0354590000000004]) - (-64.45388 + 4.02836)"
   ]
  },
  {
   "cell_type": "code",
   "execution_count": 54,
   "metadata": {},
   "outputs": [
    {
     "data": {
      "text/plain": [
       "-0.9732348854385496"
      ]
     },
     "execution_count": 54,
     "metadata": {},
     "output_type": "execute_result"
    }
   ],
   "source": [
    "-12.028266 * 16 /5.0354590000000004/ 5.7824555911600948 / 6.7913164649016142"
   ]
  },
  {
   "cell_type": "code",
   "execution_count": 58,
   "metadata": {},
   "outputs": [
    {
     "data": {
      "text/plain": [
       "array([ 0.        , -0.60597   , -1.21051   , -1.81228   , -2.41004   ,\n",
       "       -3.00272   , -3.58947   , -4.16963005])"
      ]
     },
     "execution_count": 58,
     "metadata": {},
     "output_type": "execute_result"
    }
   ],
   "source": [
    "np.array([14.63142 + 3.65786, 15.25817 + 2.42514, \\\n",
    "         15.88492 + 1.19385, 16.51167 -0.03467, \\\n",
    "         17.13842 + -1.25918, 17.76517 -2.47861, \\\n",
    "         18.39192+ -3.69211, 19.01867 + 4.24562 - 2*4.5723200231819412]) - (14.63142 + 3.65786)"
   ]
  },
  {
   "cell_type": "code",
   "execution_count": 59,
   "metadata": {},
   "outputs": [
    {
     "data": {
      "text/plain": [
       "0.33933041458187524"
      ]
     },
     "execution_count": 59,
     "metadata": {},
     "output_type": "execute_result"
    }
   ],
   "source": [
    "4.16963005 * 16 / 4.5723200231819412 / 6.0589359077676566 / 7.0967865102725680"
   ]
  },
  {
   "cell_type": "code",
   "execution_count": 104,
   "metadata": {},
   "outputs": [],
   "source": [
    "A2 = np.array([(a8[0]) * -16 / (a8[1]*a8[2]*a8[3]),\n",
    "            (a7[0]) * -16 / (a7[1]*a7[2]*a7[3]),\n",
    "            (a6[0]) * -16 / (a6[1]*a6[2]*a6[3]),\n",
    "            (a5[0]) * -16 / (a5[1]*a5[2]*a5[3]),\n",
    "            (a4[0]) * -16 / (a4[1]*a4[2]*a4[3]),\n",
    "            (a3[0]) * -16 / (a3[1]*a3[2]*a3[3]),\n",
    "            (a2[0]) * -16 / (a2[1]*a2[2]*a2[3]),\n",
    "            (a1[0]) * -16 / (a1[1]*a1[2]*a1[3]),\n",
    "            (a0[0]) * -16 / (a0[1]*a0[2]*a0[3])])"
   ]
  },
  {
   "cell_type": "code",
   "execution_count": 107,
   "metadata": {},
   "outputs": [
    {
     "data": {
      "image/png": "[encoded data removed]",
      "text/plain": [
       "<Figure size 432x288 with 1 Axes>"
      ]
     },
     "metadata": {
      "needs_background": "light"
     },
     "output_type": "display_data"
    }
   ],
   "source": [
    "from matplotlib.ticker import FormatStrFormatter\n",
    "\n",
    "fig = plt.figure(figsize=(6,4))\n",
    "ax = plt.subplot(111)\n",
    "\n",
    "#plt.ylim([0, 1.4])\n",
    "\n",
    "plt.plot(np.linspace(0, 1, 9), A2, '--', color='C0', alpha=0.5, marker='o')\n",
    "plt.plot(np.linspace(0, 0.375, 4), A2[0:4], color='C0', marker='o')\n",
    "plt.ylabel(r'Polarization (C/m$^2$)', fontsize=16)\n",
    "ax.set_yticklabels(ax.get_yticks(), fontsize=16)\n",
    "ax.set_xticklabels(ax.get_xticks(), fontsize=16)\n",
    "\n",
    "ax.xaxis.set_major_formatter(FormatStrFormatter('%.2f'))\n",
    "ax.yaxis.set_major_formatter(FormatStrFormatter('%.1f'))\n",
    "\n",
    "#plt.title(u'Wurtzite Al$_x$Sc$_{1-x}$N',fontdict={'size':16})\n",
    "\n",
    "\n",
    "#plt.xlabel(r'Al$_x$Sc$_{8-x}$N$_8$', fontsize=16)\n",
    "plt.xlabel(r'Sc concentration', fontsize=16)\n",
    "\n",
    "plt.savefig('AlScN_SP.png', bbox_inches='tight', format='png', dpi=300)\n",
    "\n"
   ]
  },
  {
   "cell_type": "code",
   "execution_count": 214,
   "metadata": {},
   "outputs": [],
   "source": [
    "c = 14.588167\n",
    "A = 90.35011066329744\n",
    "90.35011066329744 * 14.588167\n",
    "\n",
    "P =np.array([218.27702 + -14.07375,\n",
    "             219.64670 + -13.93828, \n",
    "             221.01638 + -13.81888,\n",
    "             222.38605 + -13.73857, \n",
    "             223.75573 + -13.72742, \n",
    "             229.23443 + -0.10936,\n",
    "             143.07511 + -5.12899, \n",
    "              24.10869 + 14.58164,\n",
    "             123.96478 + 6.03687,\n",
    "              48.76286 + -11.31745, \n",
    "              61.08995 + -10.27224,\n",
    "             141.83571 + -1.70773,\n",
    "             154.16279 + 12.62993]) \n",
    "\n",
    "Nc = np.array([-14, -14, -14, -14, -14, -15, -8.666, -1, -6.5, 0.5, .333, -3.5, -4.5])\n",
    "x = [0, 1/9, 2/9, 3/9, 4/9, 8/9, 1, 2, 3, 4, 5, 8, 9]"
   ]
  },
  {
   "cell_type": "code",
   "execution_count": 215,
   "metadata": {},
   "outputs": [
    {
     "data": {
      "text/plain": [
       "[<matplotlib.lines.Line2D at 0x7f3f2a6aceb8>]"
      ]
     },
     "execution_count": 215,
     "metadata": {},
     "output_type": "execute_result"
    },
    {
     "data": {
      "image/png": "[encoded data removed]",
      "text/plain": [
       "<Figure size 432x288 with 1 Axes>"
      ]
     },
     "metadata": {
      "needs_background": "light"
     },
     "output_type": "display_data"
    }
   ],
   "source": [
    "plt.plot(x,(P+c*Nc)/(A*c))"
   ]
  },
  {
   "cell_type": "code",
   "execution_count": null,
   "metadata": {},
   "outputs": [],
   "source": [
    "(219.64670 + -13.93828) - (218.27702 + -14.07375)"
   ]
  },
  {
   "cell_type": "code",
   "execution_count": null,
   "metadata": {},
   "outputs": [],
   "source": [
    "P =np.array([218.27702 + -14.07375,\n",
    "             219.64670 + -13.93828, \n",
    "             221.01638 + -13.81888,\n",
    "             222.38605 + -13.73857, \n",
    "             223.75573 + -13.72742]\n",
    "x = [0, 1/81, 2/81, 3/81, 4/81]"
   ]
  },
  {
   "cell_type": "code",
   "execution_count": null,
   "metadata": {},
   "outputs": [],
   "source": [
    "plt.plot(P,x)"
   ]
  },
  {
   "cell_type": "code",
   "execution_count": null,
   "metadata": {},
   "outputs": [],
   "source": []
  }
 ],
 "metadata": {
  "kernelspec": {
   "display_name": "Python 3",
   "language": "python",
   "name": "python3"
  },
  "language_info": {
   "codemirror_mode": {
    "name": "ipython",
    "version": 3
   },
   "file_extension": ".py",
   "mimetype": "text/x-python",
   "name": "python",
   "nbconvert_exporter": "python",
   "pygments_lexer": "ipython3",
   "version": "3.6.9"
  }
 },
 "nbformat": 4,
 "nbformat_minor": 2
}
