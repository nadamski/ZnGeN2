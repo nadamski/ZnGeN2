{
 "cells": [
  {
   "cell_type": "code",
   "execution_count": 1,
   "metadata": {},
   "outputs": [],
   "source": [
    "import numpy as np\n",
    "import matplotlib as mpl\n",
    "import matplotlib.pyplot as plt\n",
    "import matplotlib.ticker as mtick\n",
    "\n",
    "\n",
    "from pymatgen import Lattice, Structure, Molecule\n",
    "from pymatgen.io.vasp import outputs as vaspout\n",
    "from pymatgen.io.vasp import inputs as vaspin\n",
    "from pymatgen.symmetry import analyzer\n",
    "from random import shuffle\n",
    "\n",
    "import pymatgen as pmg\n",
    "from pymatgen.io.vasp import outputs as vasp\n",
    "from pymatgen.core.surface import Slab, SlabGenerator\n",
    "from pymatgen.symmetry.analyzer import SpacegroupAnalyzer\n",
    "from pymatgen.transformations import standard_transformations\n",
    "from scipy.interpolate import interp1d"
   ]
  },
  {
   "cell_type": "code",
   "execution_count": null,
   "metadata": {},
   "outputs": [],
   "source": []
  },
  {
   "cell_type": "code",
   "execution_count": 2,
   "metadata": {},
   "outputs": [],
   "source": [
    "a_Mg = 2.0996784416305903 * 2**0.5\n",
    "c_Mg = 2.0996784416305903 * 3**0.5 * 2\n",
    "c_Mg_on_Zn = 7.0101798638883475\n",
    "\n",
    "a_Ca = 2.4038016181676580 *2**0.5\n",
    "c_Ca = 2.4038016181676580 *3**0.5 * 2\n",
    "c_Ca_on_Zn = 8.4973270615965415\n",
    "\n",
    "\n",
    "a_Cd = 2.3614121609750778 *2**0.5\n",
    "c_Cd = 2.3614121609750778 *3**0.5 * 2\n",
    "c_Cd_on_Zn = 8.3518376319009864\n",
    "\n",
    "a_Zn = 3.2562112433332855\n",
    "c_Zn = 5.2436599575602845\n",
    "\n",
    "e_Zn = 3.78 # https://www.vasp.at/mmars/day2.pdf\n",
    "e_Mg = 2.94 # https://arxiv.org/pdf/1706.08159.pdf\n",
    "\n",
    "e_clamp_Ca00 = 2.985\n",
    "e_clamp_Ca00s = 2.986\n",
    "e_clamp_Ca50 = 3.316\n",
    "\n",
    "e_clamp_Cd00 = 3.773\n",
    "e_clamp_Cd00s = 3.724\n",
    "e_clamp_Cd50 = 5.153\n",
    "\n",
    "e_clamp_Mg00 = 3.092\n",
    "e_clamp_Mg00s = 3.157\n",
    "e_clamp_Mg50 = 2.910\n",
    "\n",
    "e_clamp_Zn00 = 3.567\n",
    "e_clamp_Zn25 = 3.743"
   ]
  },
  {
   "cell_type": "code",
   "execution_count": 3,
   "metadata": {},
   "outputs": [
    {
     "data": {
      "text/plain": [
       "1.6281056216666427"
      ]
     },
     "execution_count": 3,
     "metadata": {},
     "output_type": "execute_result"
    }
   ],
   "source": [
    "a_Zn / 2"
   ]
  },
  {
   "cell_type": "code",
   "execution_count": 4,
   "metadata": {},
   "outputs": [
    {
     "data": {
      "text/plain": [
       "2.8199616568151376"
      ]
     },
     "execution_count": 4,
     "metadata": {},
     "output_type": "execute_result"
    }
   ],
   "source": [
    "a_Zn / 2 * 3**0.5"
   ]
  },
  {
   "cell_type": "code",
   "execution_count": 5,
   "metadata": {},
   "outputs": [
    {
     "data": {
      "text/plain": [
       "2.6218299787801422"
      ]
     },
     "execution_count": 5,
     "metadata": {},
     "output_type": "execute_result"
    }
   ],
   "source": [
    "5.2436599575602845 /2"
   ]
  },
  {
   "cell_type": "code",
   "execution_count": 6,
   "metadata": {},
   "outputs": [],
   "source": [
    "nZn = 8\n",
    "nMg = 8\n",
    "\n",
    "InitialZnO = Structure.from_file('/home/nadamski/ZnO.vasp')\n",
    "\n",
    "ZnMg = InitialZnO * [[1, 0, 0], [0, 1, 0], [0, 0, nZn+nMg]]\n",
    "\n",
    "Mg = c_Cd_on_Zn / 3\n",
    "Zn = c_Zn / 2\n",
    "\n",
    "cations = Mg * nMg + Zn * nZn\n",
    "\n",
    "strain = cations / ZnMg.lattice.c\n",
    "\n",
    "ZnMg.apply_strain([0, 0, strain-1])\n",
    "\n",
    "wz = 0 #1-2*(0.4996673007200840 - 0.1200226992799145)\n",
    "wz2 = 0.5\n",
    "\n",
    "A = [2/3, 1/3]\n",
    "B = [1/3, 2/3]\n",
    "C = [0, 0]\n",
    "\n",
    "for at in np.arange(0, nZn, 2):\n",
    "    at = int(at)\n",
    "    ZnMg[at] = 'Zn', A + [at*Zn/cations]\n",
    "    ZnMg[2*nZn+at] = 'O', B + [(at -wz)*Zn/cations]\n",
    "for at in np.arange(1, nZn, 2):\n",
    "    at = int(at)\n",
    "    ZnMg[at] = 'Zn', B + [at*Zn/cations]\n",
    "    ZnMg[2*nZn+at] = 'O', A + [(at -wz)*Zn/cations]\n",
    "\n",
    "    \n",
    "for at in np.arange(nZn+2, nZn+nMg, 3):\n",
    "    at = int(at)\n",
    "    ZnMg[at] = 'Cd', A + [(at-nZn)*Mg/cations + nZn*Zn/cations]\n",
    "    ZnMg[2*nZn+at] = 'O', C + [(at-nZn -wz2)*Mg/cations + nZn*Zn/cations]\n",
    "\n",
    "for at in np.arange(nZn, nZn+nMg, 3):\n",
    "    at = int(at)\n",
    "    ZnMg[at] = 'Cd', C + [(at-nZn)*Mg/cations + nZn*Zn/cations]\n",
    "    ZnMg[2*nZn+at] = 'O', B + [(at-nZn -wz2)*Mg/cations + nZn*Zn/cations]\n",
    "\n",
    "for at in np.arange(nZn+1, nZn+nMg, 3):\n",
    "    at = int(at)\n",
    "    ZnMg[at] = 'Cd', B + [(at-nZn)*Mg/cations + nZn*Zn/cations]\n",
    "    ZnMg[2*nZn+at] = 'O', A + [(at-nZn -wz2)*Mg/cations + nZn*Zn/cations]\n",
    "    \n",
    "ZnMg[-1] = 'O', A + [(-1 -wz2)*Mg/cations]\n",
    "ZnMg[nMg+nZn] = 'O', C + [(-wz2)*Mg/cations]\n",
    "ZnMg[nZn*2+nMg] = 'O', B + [(nZn -wz/2 - wz2/2)*Zn/cations]\n",
    "\n",
    "\n",
    "\n",
    "ZnMg.to(fmt='poscar',filename='/home/nadamski/strain.vasp')"
   ]
  },
  {
   "cell_type": "code",
   "execution_count": null,
   "metadata": {},
   "outputs": [],
   "source": []
  },
  {
   "cell_type": "code",
   "execution_count": 32,
   "metadata": {},
   "outputs": [],
   "source": [
    "nZn = 6\n",
    "nMg = 8\n",
    "\n",
    "InitialZnO = Structure.from_file('/home/nadamski/ZnO.vasp')\n",
    "\n",
    "ZnMg = InitialZnO * [[1, 0, 0], [0, 1, 0], [0, 0, nZn+nMg]]\n",
    "\n",
    "Mg = c_Mg_on_Zn / 3\n",
    "Zn = c_Zn / 2\n",
    "\n",
    "cations = Mg * nMg + Zn * nZn\n",
    "\n",
    "strain = cations / ZnMg.lattice.c\n",
    "\n",
    "ZnMg.apply_strain([0, 0, strain-1])\n",
    "\n",
    "wz = 0 #1-2*(0.4996673007200840 - 0.1200226992799145)\n",
    "wz2 = 0.0\n",
    "\n",
    "A = [2/3, 1/3]\n",
    "B = [1/3, 2/3]\n",
    "C = [0, 0]\n",
    "\n",
    "for at in np.arange(0, nZn, 2):\n",
    "    at = int(at)\n",
    "    ZnMg[at] = 'Zn', A + [at*Zn/cations]\n",
    "    ZnMg[nMg+nZn+at] = 'O', B + [(at -wz)*Zn/cations]\n",
    "for at in np.arange(1, nZn, 2):\n",
    "    at = int(at)\n",
    "    ZnMg[at] = 'Zn', B + [at*Zn/cations]\n",
    "    ZnMg[nMg+nZn+at] = 'O', A + [(at -wz)*Zn/cations]\n",
    "\n",
    "    \n",
    "for at in np.arange(nZn+2, nZn+nMg, 3):\n",
    "    at = int(at)\n",
    "    ZnMg[at] = 'Mg', A + [(at-nZn)*Mg/cations + nZn*Zn/cations]\n",
    "    ZnMg[nMg+nZn+at] = 'O', C + [(at-nZn -wz2)*Mg/cations + nZn*Zn/cations]\n",
    "\n",
    "for at in np.arange(nZn, nZn+nMg, 3):\n",
    "    at = int(at)\n",
    "    ZnMg[at] = 'Mg', C + [(at-nZn)*Mg/cations + nZn*Zn/cations]\n",
    "    ZnMg[nMg+nZn+at] = 'O', B + [(at-nZn -wz2)*Mg/cations + nZn*Zn/cations]\n",
    "\n",
    "for at in np.arange(nZn+1, nZn+nMg, 3):\n",
    "    at = int(at)\n",
    "    ZnMg[at] = 'Mg', B + [(at-nZn)*Mg/cations + nZn*Zn/cations]\n",
    "    ZnMg[nMg+nZn+at] = 'O', A + [(at-nZn -wz2)*Mg/cations + nZn*Zn/cations]\n",
    "    \n",
    "ZnMg[-1] = 'O', A + [(-1 -wz2)*Mg/cations]\n",
    "ZnMg[nMg+nZn] = 'O', C + [(-wz2)*Mg/cations]\n",
    "ZnMg[nZn*2+nMg] = 'O', B + [(nZn - wz2)*Zn/cations]\n",
    "\n",
    "\n",
    "\n",
    "ZnMg.to(fmt='poscar',filename='/home/nadamski/strain.vasp')"
   ]
  },
  {
   "cell_type": "code",
   "execution_count": 28,
   "metadata": {},
   "outputs": [],
   "source": []
  },
  {
   "cell_type": "code",
   "execution_count": null,
   "metadata": {},
   "outputs": [],
   "source": []
  },
  {
   "cell_type": "code",
   "execution_count": null,
   "metadata": {},
   "outputs": [],
   "source": []
  },
  {
   "cell_type": "code",
   "execution_count": null,
   "metadata": {},
   "outputs": [],
   "source": []
  },
  {
   "cell_type": "code",
   "execution_count": 29,
   "metadata": {},
   "outputs": [],
   "source": [
    "nZn = 8\n",
    "nMg = 8\n",
    "\n",
    "InitialZnO = Structure.from_file('/home/nadamski/ZnO.vasp')\n",
    "\n",
    "ZnMg = InitialZnO * [[1, 0, 0], [0, 1, 0], [0, 0, nZn+nMg]]\n",
    "\n",
    "Mg = c_Mg_on_Zn / 3\n",
    "Zn = c_Zn / 2\n",
    "\n",
    "cations = Mg * nMg + Zn * nZn\n",
    "\n",
    "strain = cations / ZnMg.lattice.c\n",
    "\n",
    "ZnMg.apply_strain([0, 0, strain-1])\n",
    "\n",
    "wz = 0 #1-2*(0.4996673007200840 - 0.1200226992799145)\n",
    "wz2 = 0.5\n",
    "\n",
    "A = [2/3, 1/3]\n",
    "B = [1/3, 2/3]\n",
    "C = [0, 0]\n",
    "\n",
    "for at in np.arange(0, nZn, 2):\n",
    "    at = int(at)\n",
    "    ZnMg[at] = 'Zn', A + [at*Zn/cations]\n",
    "    ZnMg[2*nZn+at] = 'O', B + [(at -wz)*Zn/cations]\n",
    "for at in np.arange(1, nZn, 2):\n",
    "    at = int(at)\n",
    "    ZnMg[at] = 'Zn', B + [at*Zn/cations]\n",
    "    ZnMg[2*nZn+at] = 'O', A + [(at -wz)*Zn/cations]\n",
    "\n",
    "    \n",
    "for at in np.arange(nZn+2, nZn+nMg, 3):\n",
    "    at = int(at)\n",
    "    ZnMg[at] = 'Mg', A + [(at-nZn)*Mg/cations + nZn*Zn/cations]\n",
    "    ZnMg[2*nZn+at] = 'O', C + [(at-nZn -wz2)*Mg/cations + nZn*Zn/cations]\n",
    "\n",
    "for at in np.arange(nZn, nZn+nMg, 3):\n",
    "    at = int(at)\n",
    "    ZnMg[at] = 'Mg', C + [(at-nZn)*Mg/cations + nZn*Zn/cations]\n",
    "    ZnMg[2*nZn+at] = 'O', B + [(at-nZn -wz2)*Mg/cations + nZn*Zn/cations]\n",
    "\n",
    "for at in np.arange(nZn+1, nZn+nMg, 3):\n",
    "    at = int(at)\n",
    "    ZnMg[at] = 'Mg', B + [(at-nZn)*Mg/cations + nZn*Zn/cations]\n",
    "    ZnMg[2*nZn+at] = 'O', A + [(at-nZn -wz2)*Mg/cations + nZn*Zn/cations]\n",
    "    \n",
    "ZnMg[-1] = 'O', A + [(-1 -wz2)*Mg/cations]\n",
    "ZnMg[nMg+nZn] = 'O', C + [(-wz2)*Mg/cations]\n",
    "ZnMg[nZn*2+nMg] = 'O', B + [(nZn - wz2)*Zn/cations]\n",
    "\n",
    "\n",
    "\n",
    "ZnMg.to(fmt='poscar',filename='/home/nadamski/strain.vasp')"
   ]
  },
  {
   "cell_type": "code",
   "execution_count": null,
   "metadata": {},
   "outputs": [],
   "source": []
  }
 ],
 "metadata": {
  "kernelspec": {
   "display_name": "Python 3",
   "language": "python",
   "name": "python3"
  },
  "language_info": {
   "codemirror_mode": {
    "name": "ipython",
    "version": 3
   },
   "file_extension": ".py",
   "mimetype": "text/x-python",
   "name": "python",
   "nbconvert_exporter": "python",
   "pygments_lexer": "ipython3",
   "version": "3.6.9"
  }
 },
 "nbformat": 4,
 "nbformat_minor": 2
}
