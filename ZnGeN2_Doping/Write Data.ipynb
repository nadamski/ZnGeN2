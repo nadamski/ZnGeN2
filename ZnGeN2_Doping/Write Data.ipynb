{
 "cells": [
  {
   "cell_type": "code",
   "execution_count": 2,
   "metadata": {},
   "outputs": [],
   "source": [
    "import numpy as np\n",
    "import matplotlib as mpl\n",
    "import matplotlib.pyplot as plt\n",
    "%matplotlib inline"
   ]
  },
  {
   "cell_type": "code",
   "execution_count": 11,
   "metadata": {},
   "outputs": [],
   "source": [
    "def WriteBandEdgeZnGeN2():\n",
    "    #BandEdges = !grep -A 1 \"52        \" ~/remote/guild/work/ZnGeN2/Zn_w_d_Ge_no_d_N/HSE25/Gpoint/EIGENVAL\n",
    "    BandEdge = {}\n",
    "\n",
    "    CBand = !grep \" 53      \" ~/remote/cori/work/copyscratch/ZnSiN2/bandstruct/GX1/EIGENVAL\n",
    "    BandEdge['ZnSiN2_CB'] = float(CBand[8].split()[1])\n",
    "    VBand = !grep \" 52      \" ~/remote/cori/work/copyscratch/ZnSiN2/bandstruct/ZU6/EIGENVAL\n",
    "    BandEdge['ZnSiN2_VB'] = float(VBand[17].split()[1])\n",
    "    \n",
    "    BandEdges = !grep -A 1 \"52        \" ~/remote/cori/work/ZnGeN2prim/ZnGeN2_HSE25_bandstruct/GZ2/EIGENVAL\n",
    "    BandEdge['ZnGeN2_VB'] = float(BandEdges[24].split()[1])\n",
    "    BandEdge['ZnGeN2_CB'] = float(BandEdges[25].split()[1])\n",
    "    \n",
    "    BandEdges = !grep -A 1 \"52        \" ~/remote/cori/work/copyscratch/ZnSnN2/bandstruct/GX1/EIGENVAL\n",
    "    BandEdge['ZnSnN2_VB'] = float(BandEdges[24].split()[1])\n",
    "    BandEdge['ZnSnN2_CB'] = float(BandEdges[25].split()[1])\n",
    "    \n",
    "    BandEdges = !head -17 ~/remote/cori/work/polar/HSE/GaN/prim/25/EIGENVAL | tail -2\n",
    "    BandEdge['GaN25_VB'] = float(BandEdges[0].split()[1])\n",
    "    BandEdge['GaN25_CB'] = float(BandEdges[1].split()[1])\n",
    "\n",
    "    BandEdges = !head -17 ~/remote/cori/work/polar/HSE/GaN/prim/295/EIGENVAL | tail -2\n",
    "    BandEdge['GaN295_VB'] = float(BandEdges[0].split()[1])\n",
    "    BandEdge['GaN295_CB'] = float(BandEdges[1].split()[1])\n",
    "\n",
    "    \n",
    "    return BandEdge"
   ]
  },
  {
   "cell_type": "code",
   "execution_count": 12,
   "metadata": {},
   "outputs": [
    {
     "data": {
      "text/plain": [
       "{'GaN25_CB': 5.245438,\n",
       " 'GaN25_VB': 2.062347,\n",
       " 'GaN295_CB': 5.447876,\n",
       " 'GaN295_VB': 1.965016,\n",
       " 'ZnGeN2_CB': 5.98107,\n",
       " 'ZnGeN2_VB': 2.791913,\n",
       " 'ZnSiN2_CB': 8.840683,\n",
       " 'ZnSiN2_VB': 4.009651,\n",
       " 'ZnSnN2_CB': 4.613189,\n",
       " 'ZnSnN2_VB': 3.208647}"
      ]
     },
     "execution_count": 12,
     "metadata": {},
     "output_type": "execute_result"
    }
   ],
   "source": [
    "WriteBandEdgeZnGeN2()"
   ]
  },
  {
   "cell_type": "code",
   "execution_count": null,
   "metadata": {},
   "outputs": [],
   "source": []
  },
  {
   "cell_type": "code",
   "execution_count": 4,
   "metadata": {},
   "outputs": [],
   "source": [
    "def WriteDefects():\n",
    "    mainF = \"/home/na/remote/cori/work/copyscratch/ZnGeN2/\"\n",
    "    listDef = !ls \"{mainF##*/}\"\n",
    "    chargeDict = {'n4':'-4','n3':'-3','n2':'-2','n1':'-1','neutral':'0','p1':'1','p2':'2','p3':'3','p4':'4',}\n",
    "    E = {}\n",
    "    for defect in listDef:\n",
    "        chargeF = mainF + defect\n",
    "        listcharge = !ls \"{chargeF##*/}\"\n",
    "        Edef = {}\n",
    "        for charge in listcharge:\n",
    "            OUT = chargeF + '/' + charge +\"/OUTCAR\"\n",
    "            loc = !grep \"energy  w\" \"{OUT##*/}\"\n",
    "            if charge in chargeDict:\n",
    "                Edef[chargeDict[charge]] = float(loc[0].split()[-1])\n",
    "            elif charge == 'H1':\n",
    "                HchargeF = mainF + defect +'/'+ charge\n",
    "                listHcharge = !ls \"{HchargeF##*/}\"\n",
    "                HEdef = {}\n",
    "                POS = chargeF + '/' + charge + '/' + listHcharge[0] + '/POSCAR'\n",
    "                POSloc = !head -7 \"{POS##*/}\" | tail -2\n",
    "                for Hcharge in listHcharge:\n",
    "                    OUTH = chargeF + '/' + charge + '/' + Hcharge +\"/OUTCAR\"\n",
    "                    loc = !grep \"energy  w\" \"{OUTH##*/}\"\n",
    "                    HEdef[chargeDict[Hcharge]] = float(loc[0].split()[-1])\n",
    "                E[defect+'-H'] = [HEdef, {POSloc[0].split()[i]:map(int, POSloc[1].split())[i] for i in range(len(POSloc[0].split()))}]\n",
    "        if not Edef:\n",
    "            continue\n",
    "        POS = chargeF + '/neutral/POSCAR'\n",
    "        POSloc = !head -7 \"{POS##*/}\" | tail -2\n",
    "        E[defect] = [Edef, {POSloc[0].split()[i]:map(int, POSloc[1].split())[i] for i in range(len(POSloc[0].split()))}]\n",
    "    return E"
   ]
  },
  {
   "cell_type": "code",
   "execution_count": 18,
   "metadata": {},
   "outputs": [],
   "source": [
    "def WriteDefectsSi():\n",
    "    mainF = \"/home/nadamski/remote/cori/work/copyscratch/ZnSiN2/defects/\"\n",
    "    listDef = !ls \"{mainF##*/}\"\n",
    "    chargeDict = {'n4':'-4','n3':'-3','n2':'-2','n1':'-1','neutral':'0','p1':'1','p2':'2','p3':'3','p4':'4',}\n",
    "    E = {}\n",
    "    for defect in listDef:\n",
    "        print defect\n",
    "        chargeF = mainF + defect\n",
    "        listcharge = !ls \"{chargeF##*/}\"\n",
    "        Edef = {}\n",
    "        for charge in listcharge:\n",
    "            OUT = chargeF + '/' + charge +\"/OUTCAR\"\n",
    "            loc = !grep \"energy  w\" \"{OUT##*/}\"\n",
    "            if charge in chargeDict:\n",
    "                Edef[chargeDict[charge]] = float(loc[0].split()[-1])\n",
    "            elif charge == 'H1':\n",
    "                HchargeF = mainF + defect +'/'+ charge\n",
    "                listHcharge = !ls \"{HchargeF##*/}\"\n",
    "                HEdef = {}\n",
    "                POS = chargeF + '/' + charge + '/' + listHcharge[0] + '/POSCAR'\n",
    "                POSloc = !head -7 \"{POS##*/}\" | tail -2\n",
    "                for Hcharge in listHcharge:\n",
    "                    OUTH = chargeF + '/' + charge + '/' + Hcharge +\"/OUTCAR\"\n",
    "                    loc = !grep \"energy  w\" \"{OUTH##*/}\"\n",
    "                    HEdef[chargeDict[Hcharge]] = float(loc[0].split()[-1])\n",
    "                E[defect+'-H'] = [HEdef, {POSloc[0].split()[i]:map(int, POSloc[1].split())[i] for i in range(len(POSloc[0].split()))}]\n",
    "        if not Edef:\n",
    "            continue\n",
    "        print Edef\n",
    "        POS = chargeF + '/' + listcharge[0] + '/POSCAR'\n",
    "        POSloc = !head -7 \"{POS##*/}\" | tail -2\n",
    "        print POSloc\n",
    "        E[defect] = [Edef, {POSloc[0].split()[i]:map(int, POSloc[1].split())[i] for i in range(len(POSloc[0].split()))}]\n",
    "    return E"
   ]
  },
  {
   "cell_type": "code",
   "execution_count": 6,
   "metadata": {},
   "outputs": [],
   "source": [
    "def WriteDefectsScN():\n",
    "    mainF = \"/home/na/remote/cori/work/copyscratch/ScN/ScN_rs/ScN_222/\"\n",
    "    listDef = !ls \"{mainF##*/}\"\n",
    "    chargeDict = {'n4':'-4','n3':'-3','n2':'-2','n1':'-1','neutral':'0','p1':'1','p2':'2','p3':'3','p4':'4',}\n",
    "    E = {}\n",
    "    for defect in listDef:\n",
    "        print defect\n",
    "        chargeF = mainF + defect\n",
    "        listcharge = !ls \"{chargeF##*/}\"\n",
    "        Edef = {}\n",
    "        for charge in listcharge:\n",
    "            OUT = chargeF + '/' + charge +\"/OUTCAR\"\n",
    "            loc = !grep \"energy  w\" \"{OUT##*/}\"\n",
    "            if charge in chargeDict:\n",
    "                Edef[chargeDict[charge]] = float(loc[0].split()[-1])\n",
    "            elif charge == 'H1':\n",
    "                HchargeF = mainF + defect +'/'+ charge\n",
    "                listHcharge = !ls \"{HchargeF##*/}\"\n",
    "                HEdef = {}\n",
    "                POS = chargeF + '/' + charge + '/' + listHcharge[0] + '/POSCAR'\n",
    "                POSloc = !head -7 \"{POS##*/}\" | tail -2\n",
    "                for Hcharge in listHcharge:\n",
    "                    OUTH = chargeF + '/' + charge + '/' + Hcharge +\"/OUTCAR\"\n",
    "                    loc = !grep \"energy  w\" \"{OUTH##*/}\"\n",
    "                    HEdef[chargeDict[Hcharge]] = float(loc[0].split()[-1])\n",
    "                E[defect+'-H'] = [HEdef, {POSloc[0].split()[i]:map(int, POSloc[1].split())[i] for i in range(len(POSloc[0].split()))}]\n",
    "        if not Edef:\n",
    "            continue\n",
    "        POS = chargeF + '/neutral/POSCAR'\n",
    "        POSloc = !head -7 \"{POS##*/}\" | tail -2\n",
    "        E[defect] = [Edef, {POSloc[0].split()[i]:map(int, POSloc[1].split())[i] for i in range(len(POSloc[0].split()))}]\n",
    "    return E"
   ]
  },
  {
   "cell_type": "code",
   "execution_count": 14,
   "metadata": {},
   "outputs": [],
   "source": [
    "def WriteChemPot():\n",
    "    mainF = \"/home/nadamski/remote/cori/work/copyscratch/refchem\"\n",
    "    listChem = !ls \"{mainF##*/}\"\n",
    "    E = {}\n",
    "    for chem in listChem:\n",
    "        print chem\n",
    "        OUT = mainF +'/'+ chem + '/OUTCAR'\n",
    "        POS = mainF +'/'+ chem + '/POSCAR'\n",
    "        loc = !grep \"energy  w\" \"{OUT##*/}\"\n",
    "        POSloc = !head -7 \"{POS##*/}\" | tail -2\n",
    "        E[chem] = [float(loc[-1].split()[-1]), {POSloc[0].split()[i]:map(int, POSloc[1].split())[i] for i in range(len(POSloc[0].split()))}]\n",
    "    return E"
   ]
  },
  {
   "cell_type": "code",
   "execution_count": 8,
   "metadata": {},
   "outputs": [],
   "source": [
    "Corrections = {'default':{},\n",
    "               'V_N':{'-3':1.49304, '-2':0.676906, '-1':0.214226, '1':0.159226, '2':0.596906, '3':1.34304},\n",
    "               'V_Ge':{'-4':3.38762, '-3':1.94304, '-2':0.906906, '-1':0.269226, '1':0.196226, '2':0.596906, '3':1.34304},\n",
    "               'V_Zn':{'-2':0.916906, '-1':0.259226, '1':0.103226, '2':0.606906},\n",
    "               'Ge_Zn':{'-3':1.27704, '-2':0.466906, '-1':0.0992264, '1':0.249226, '2':0.886906, '3':1.64304, '4':2.74762},\n",
    "               'Zn_Ge':{'-3':1.73904, '-2':0.876906, '-1':0.239226, '1':0.129226, '2':0.796906},\n",
    "               'ZnGePair':{'-1':0.202226, '1':0.189226},\n",
    "               'V_Zn-H':{'-2':0.810906, '-1':0.202226, '1':0.149226},\n",
    "               'V_N-H':{'-1':239226, '1':0.139226, '2':0.596906, '3':1.25304},\n",
    "               'Ge_N':{'-2':0.636906, '-1':0.234226, '1':0.124226, '2':0.706906},\n",
    "               'N_Ge':{'-2':0.802906, '-1':0.269226, '1':0.129226, '2':0.596906},\n",
    "               'Zn_N':{'-1':0.239226, '1':0.0992264},\n",
    "               'N_Zn':{'-1':0.259226, '1':0.0792264},\n",
    "               'C_Ge':{'-1':0.189226, '1':0.0992264},\n",
    "               'C_N':{'-2':0.666906, '-1':0.159226, '1':0.199026},\n",
    "               'O_N':{'-1':0.114226, '1':0.185226, '2':0.636906},\n",
    "               'H_i':{'-1':0.189226, '1':0.149226},\n",
    "               'N_i':{'-2':0.716906, '-1':0.209226, '1':0.134226, '2':0.596906, '3':1.40304},\n",
    "               'Zn_i':{'1':0.179226, '2':0.656906},\n",
    "               'Ge_i':{'1':0.179226, '2':0.770906, '3':1.13304, '4':2.26762},\n",
    "               'Li_Zn':{'-1':0.219226},\n",
    "               'Li_Zn-H':{'-1':0.149226,'1':0.119226},\n",
    "               'Li_i':{'-1':0.0992264,'1':0.189226},\n",
    "               'LiPair':{'-1':0.119226, '1':0.149226},\n",
    "               'Li_Ge':{'-1':0.279226, '-2':0.956906, '-3':1.79304},\n",
    "               'Cu_Zn':{'-1':0.171226, '1':0.219226},\n",
    "               'Al_Ge':{'-1':0.194226},\n",
    "               'Al_Zn':{'1':0.249226},\n",
    "               'AlPair':{'-1':0.0442264,'1':0.239226},\n",
    "               'Al_i':{'1':0.259226, '2':0.916906, '3':1.91304},\n",
    "               'Ga_d_Ge':{'-1':0.204226},\n",
    "               'Ga_Ge':{'-1':0.239226},\n",
    "               'Ga_d_Zn':{'1':0.243226},\n",
    "               'Ga_Zn':{'1':0.209226},\n",
    "               'GaPair':{'-1':0.134226,'1':0.119226},\n",
    "               'Ga_i':{'1':0.239226, '2':0.836906, '3':1.78104},\n",
    "               'In_Ge':{'-1':0.174226},\n",
    "               'In_Zn':{'1':0.279226},\n",
    "               'InPair':{},\n",
    "               'Ga_Ge-H':{'-1':0.191226, '1':0.0692264},\n",
    "               'Al_Ge-H':{'-1':0.204226, '1':0.189226},\n",
    "               'Sn_Zn':{'2':0.936906},\n",
    "               'Sn_Ge':{},\n",
    "               'P_Ge':{'-1':0.0692264, '1':0.216226},\n",
    "               'P_N':{'-1':0.119226, '1':0.199226,'2':0.756906},\n",
    "               'P_Zn':{'-1':0.119226, '1':0.219226, '2':0.916906, '3':1.91304},\n",
    "               'As_Ge':{'-1':0.059226, '1':0.219226},\n",
    "               'As_N':{'-1':0.134226, '1':0.179226,'2':0.736906},\n",
    "               'As_Zn':{'-1':0.129226, '1':0.244226, '2':0.896906, '3':1.91304},\n",
    "               'S_N':{'-1':0.0642264, '1':0.212226},\n",
    "               'S_Ge':{'-1':0.209226, '1':0.196226, '2':0.776906},\n",
    "               'S_Zn':{'-1':0.0292264, '1':0.269226, '2':0.876906, '3':1.82304, '4':3.26762},\n",
    "               'Se_N':{'-1':0.0842264, '1':0.199226},\n",
    "               'Se_Ge':{'-1':0.124226, '1':0.214226, '2':0.856906},\n",
    "               'Se_Zn':{'-1':0.129226, '1':0.289226, '2':0.876906, '3':1.91304, '4':3.34762}}\n",
    "np.save('FreysoldtCorrections.npy', Corrections)"
   ]
  },
  {
   "cell_type": "code",
   "execution_count": 23,
   "metadata": {},
   "outputs": [],
   "source": [
    "CorrectionsSi = {'default':{},\n",
    "                 'H_i':{'-1':0.20862, '1':0.18062},\n",
    "                 'Zn_Si':{'-2':1.03448, '-1':0.31862, '1':0.0686203},\n",
    "                 'V_Zn':{'-2':0.974481, '-1':0.27362, '1':0.0886203},\n",
    "                 'V_Si':{'-4':3.97793, '-3':2.34258, '-2':1.19448, '-1':0.39862},\n",
    "                 'S_N':{'-1':0.16862 ,'1':0.24862},\n",
    "                 'O_N':{'-1':0.23862 ,'1':0.18762},\n",
    "                 'P_Si':{'-1':0.0886203, '1':0.20862},\n",
    "                 'As_Si':{'-1':0.21862, '1':0.19862},\n",
    "                 'Se_N':{'-1':0.17862, '1':0.19862},\n",
    "                 'Al_Si':{'-1':0.23862},\n",
    "                 'Al_Zn':{'1':0.26862},\n",
    "                 'Ga_Si':{'-1':0.28862},\n",
    "                 'Ga_Zn':{'1':0.21362},\n",
    "                 'In_Si':{'-1':0.21362},\n",
    "                 'In_Zn':{'1':0.27862},\n",
    "                 'P_N':{'1':0.19862, '2':0.714481},\n",
    "                 'As_N':{'1':0.18862}\n",
    "                 'S_Zn':{'1':0.26862}\n",
    "                 'S_Ge':{'1':0.17862}\n",
    "}\n",
    "np.save('FreysoldtCorrectionsSi.npy', CorrectionsSi)"
   ]
  },
  {
   "cell_type": "code",
   "execution_count": 19,
   "metadata": {},
   "outputs": [],
   "source": [
    "CorrectionsScN = {'default':{},\n",
    "                  'H_i':{'-1':0.144162, '1':0.194162}}\n",
    "np.save('FreysoldtCorrectionsScN.npy', CorrectionsScN)\n",
    "#Artificial dielectric constant 8.8"
   ]
  },
  {
   "cell_type": "code",
   "execution_count": 20,
   "metadata": {},
   "outputs": [
    {
     "data": {
      "text/plain": [
       "{'ZnGeN2': array([[ 9.93 ,  0.   ,  0.   ],\n",
       "        [ 0.   ,  9.78 ,  0.   ],\n",
       "        [ 0.   ,  0.   ,  9.735]]), 'ZnSiN2': array([[ 8.947,  0.   ,  0.   ],\n",
       "        [ 0.   ,  8.68 ,  0.   ],\n",
       "        [ 0.   ,  0.   ,  8.869]])}"
      ]
     },
     "execution_count": 20,
     "metadata": {},
     "output_type": "execute_result"
    }
   ],
   "source": [
    "def writeDielectric():\n",
    "    Dielec = {}\n",
    "    Tensor = !grep -A 4 \"DIELECTRIC TENSOR\" ~/remote/cori/work/polar/HSE/ZnSiN2/dielec/current/OUTCAR\n",
    "    MicTensor = np.array([(Tensor[2].split()),(Tensor[3].split()),(Tensor[4].split())]).astype(np.float)\n",
    "    MacTensor = np.array([(Tensor[8].split()),(Tensor[9].split()),(Tensor[10].split())]).astype(np.float)\n",
    "    \n",
    "    Dielec['ZnSiN2'] = MicTensor+MacTensor # 8.8\n",
    "    \n",
    "    Tensor = !grep -A 4 \"DIELECTRIC TENSOR\" ~/remote/cori/work/polar/HSE/ZnGeN2/dielec/current/OUTCAR\n",
    "    MicTensor = np.array([(Tensor[2].split()),(Tensor[3].split()),(Tensor[4].split())]).astype(np.float)\n",
    "    MacTensor = np.array([(Tensor[8].split()),(Tensor[9].split()),(Tensor[10].split())]).astype(np.float)\n",
    "    \n",
    "    Dielec['ZnGeN2'] = MicTensor+MacTensor\n",
    "    return Dielec\n",
    "writeDielectric()"
   ]
  },
  {
   "cell_type": "code",
   "execution_count": 3,
   "metadata": {},
   "outputs": [],
   "source": [
    "colors = {#'V_Zn':'#ff7f0e',\n",
    "          'V_Zn':'#dd8800',\n",
    "          'V_Ge':'#dd33dd',\n",
    "          'V_N':'#11aaff',\n",
    "          'V_Si':'#dd0044',\n",
    "          #'Zn_Ge':'#1f77b4',\n",
    "          'Zn_Ge':'#bb0077',\n",
    "          'Zn_Si':'C0',\n",
    "          'Ge_Zn':'#2ca02c',\n",
    "          'H_i':'purple',\n",
    "          'O_N':'#000000',\n",
    "          'C_N':'#997733',\n",
    "          'C_Ge':'#995555',\n",
    "          'S_N':'#00bbbb',\n",
    "          'S_Zn':'#666644',\n",
    "          'S_Ge':'#9999dd',\n",
    "          'Se_N':'#00bb22',\n",
    "          'Se_Zn':'#666644',\n",
    "          'Se_Ge':'#9999dd',\n",
    "          'P_Ge':'#0000ff',\n",
    "          'P_Si':'#0000ff',\n",
    "          'P_Zn':'#226666',\n",
    "          'P_N':'#886666',\n",
    "          'As_Ge':'#6600ff',\n",
    "          'As_Zn':'#226666',\n",
    "          'As_N':'#aa6666',\n",
    "          'V_Zn-H':'#cf4f0e',\n",
    "          'Al_Ge':'#ff7030',\n",
    "          'Al_Ge-H':'#ff2020',\n",
    "          'Al_Zn':'#ff0070',\n",
    "          'AlPair':'C5',\n",
    "          'Al_i':'C2',\n",
    "          'Ga_Ge':'#ff7030',\n",
    "          'Ga_Ge-H':'#ff2020',\n",
    "          'Ga_Zn':'#ff0070',\n",
    "          'GaPair':'C5',\n",
    "          'Ga_i':'C2',\n",
    "          'In_Zn':'#ff0066',\n",
    "          'In_Ge':'#ff7030',\n",
    "          'InPair':'C5',\n",
    "          'Cu_Zn':'C3',\n",
    "          'Li_Zn':'C1',\n",
    "          'Li_Zn-H':'#ff2020',\n",
    "          'Li_i':'C2',\n",
    "          'LiPair':'C5',\n",
    "          'Li_Ge':'#ff7030'}\n",
    "\n",
    "np.save('LineColors.npy', colors)\n"
   ]
  },
  {
   "cell_type": "code",
   "execution_count": null,
   "metadata": {},
   "outputs": [],
   "source": []
  },
  {
   "cell_type": "code",
   "execution_count": 20,
   "metadata": {},
   "outputs": [],
   "source": [
    "text_def = {'V_Zn':r'$V_{\\rm Zn}$',\n",
    "            'V_Ge':r'$V_{\\rm Ge}$',\n",
    "            'V_N':r'$V_{\\rm N}$',\n",
    "            'V_Si':r'$V_{\\rm Si}$',\n",
    "            'Ge_Zn':r'$\\rm Ge_{Zn}$',\n",
    "            'Zn_Ge':r'$\\rm Zn_{Ge}$',\n",
    "            'Zn_Si':r'$\\rm Zn_{Si}$',\n",
    "            'O_N':r'$\\rm O_N$',\n",
    "            'S_N':r'$\\rm S_N$',\n",
    "            'S_Ge':r'$\\rm S_{Ge}$',\n",
    "            'S_Zn':r'$\\rm S_{Zn}$',\n",
    "            'Se_N':r'$\\rm Se_N$',\n",
    "            'Se_Ge':r'$\\rm Se_{Ge}$',\n",
    "            'Se_Zn':r'$\\rm Se_{Zn}$',\n",
    "            'H_i':r'H$_i$',\n",
    "            'Se_N':r'$\\rm Se_N$',\n",
    "            'C_N':r'$\\rm C_N$',\n",
    "            'C_Ge':r'$\\rm C_{Ge}$',\n",
    "            'Al_Ge':r'$\\rm Al_{Ge}$',\n",
    "            'Al_Ge-H':r'$\\rm Al_{Ge}-H$',\n",
    "            'Al_Zn':r'$\\rm Al_{Zn}$',\n",
    "            'AlPair':r'$\\rm Al_{Zn}-Al_{Ge}$',\n",
    "            'Al_i':r'${\\rm Al}_{i}$',\n",
    "            'Ga_Ge':r'$\\rm Ga_{Ge}$',\n",
    "            'Ga_Ge-H':r'$\\rm Ga_{Ge}-H$',\n",
    "            'Ga_Zn':r'$\\rm Ga_{Zn}$',\n",
    "            'GaPair':r'$\\rm Ga_{Zn}-Ga_{Ge}$',\n",
    "            'Ga_i':r'${\\rm Ga}_{i}$',\n",
    "            'V_Zn-H':r'$\\rm V_{Zn}-H$',\n",
    "            'In_Zn':r'$\\rm In_{Zn}$',\n",
    "            'In_Ge':r'$\\rm In_{Ge}$',\n",
    "            'InPair':r'$\\rm In_{Zn}-In_{Ge}$',\n",
    "            'P_Zn':r'$\\rm P_{Zn}$',\n",
    "            'P_N':r'$\\rm P_{N}$',\n",
    "            'P_Ge':r'$\\rm P_{Ge}$',\n",
    "            'P_Si':r'$\\rm P_{Si}$',\n",
    "            'As_Zn':r'$\\rm As_{Zn}$',\n",
    "            'As_N':r'$\\rm As_{N}$',\n",
    "            'As_Ge':r'$\\rm As_{Ge}$',\n",
    "            'As_Si':r'$\\rm As_{Si}$',\n",
    "            'Al_Si':r'$\\rm Al_{Si}$',\n",
    "            'Ga_Si':r'$\\rm Ga_{Si}$',\n",
    "            'In_Si':r'$\\rm In_{Si}$',\n",
    "            'Cu_Zn':r'$\\rm Cu_{Zn}$',\n",
    "            'Li_Zn':r'$\\rm Li_{Zn}$',\n",
    "            'Li_Zn-H':r'$\\rm Li_{Zn}-H$',\n",
    "            'Li_i':r'Li$_i$', \n",
    "            'LiPair':r'${\\rm Li_{Zn}}-{\\rm Li}_{i}$',\n",
    "            'Li_Ge':r'$\\rm Li_{Ge}$'}\n",
    "\n",
    "\n",
    "np.save('LineLabels.npy', text_def)\n"
   ]
  },
  {
   "cell_type": "code",
   "execution_count": 23,
   "metadata": {},
   "outputs": [],
   "source": [
    "BandEdges = WriteBandEdgeZnGeN2()\n",
    "np.save('BandEdge.npy', BandEdges)"
   ]
  },
  {
   "cell_type": "code",
   "execution_count": 24,
   "metadata": {},
   "outputs": [],
   "source": [
    "DefectTotalEnergies = WriteDefects()\n",
    "np.save('DefectTotalEnergy.npy', DefectTotalEnergies)"
   ]
  },
  {
   "cell_type": "code",
   "execution_count": 22,
   "metadata": {},
   "outputs": [
    {
     "name": "stdout",
     "output_type": "stream",
     "text": [
      "Al_Si\n",
      "{'0': -1010.17433212, '-1': -1005.96199062}\n",
      "['   Zn   Al   Si   N ', '    32     1    31    64']\n",
      "Al_Zn\n",
      "{'1': -1026.50733992, '0': -1017.09925428}\n",
      "['   Zn   Al   Si   N ', '    31     1    32    64']\n",
      "As_Si\n",
      "{'1': -1016.82544292, '0': -1008.18954466, '-1': -1000.15428796}\n",
      "['   Zn   Si   As   N ', '    32    31     1    64']\n",
      "default\n",
      "{'0': -1015.05278268}\n",
      "['Zn Si N', '32 32 64']\n",
      "Ga_Si\n",
      "{'0': -1007.27315292, '-1': -1003.04790183}\n",
      "['   Zn   Ga   Si   N ', '    32     1    31    64']\n",
      "Ga_Zn\n",
      "{'1': -1023.92659185, '0': -1014.81433905}\n",
      "['   Zn   Ga   Si   N ', '    31     1    32    64']\n",
      "H_i\n",
      "{'1': -1024.23314707, '0': -1015.84945981, '-1': -1009.23489015}\n",
      "['   H    Zn   Si   N ', '     1    32    32    64']\n",
      "h_i_old\n",
      "In_Si\n",
      "{'0': -1004.48174738, '-1': -999.94815661}\n",
      "['   Zn   In   Si   N ', '    32     1    31    64']\n",
      "In_Zn\n",
      "{'1': -1022.05778115, '0': -1013.25309724}\n",
      "['   Zn   In   Si   N ', '    31     1    32    64']\n",
      "O_N\n",
      "{'1': -1020.44990164, '0': -1011.54876439, '-1': -1003.0885476}\n",
      "['   Zn   Si   O    N ', '    32    32     1    63']\n",
      "P_N\n",
      "{'1': -1012.83166569, '0': -1007.55318762}\n",
      "['   Zn   Si   P    N ', '    32    32     1    63']\n",
      "P_Si\n",
      "{'1': -1020.43285663, '0': -1011.11000893, '-1': -1001.81499329}\n",
      "['   Zn   Si   P    N ', '    32    31     1    64']\n",
      "Se_N\n",
      "{'1': -1012.34475572, '0': -1003.4329933, '-1': -994.82945099}\n",
      "['   Zn   Si   Se   N ', '    32    32     1    63']\n",
      "S_N\n",
      "{'1': -1014.60958705, '0': -1005.56012941, '-1': -996.93468011}\n",
      "['   Zn   Si   S    N ', '    32    32     1    63']\n",
      "V_Si\n",
      "{'-4': -973.57987473, '-1': -991.77771774, '0': -997.15392828, '-3': -979.73690228, '-2': -985.8112171}\n",
      "['   Zn   Si   N ', '    32    31    64']\n",
      "V_Zn\n",
      "{'1': -1013.00864302, '0': -1008.25028093, '-1': -1003.46016552, '-2': -998.55720164}\n",
      "['   Zn   Si   N ', '    31    32    64']\n",
      "Zn_Si\n",
      "{'1': -1006.82756644, '0': -1002.33225358, '-1': -997.65456799, '-2': -992.62086582}\n",
      "['   Zn   Si   N ', '    33    31    64']\n"
     ]
    }
   ],
   "source": [
    "DefectTotalEnergiesSi = WriteDefectsSi()\n",
    "np.save('DefectTotalEnergySi.npy', DefectTotalEnergiesSi)"
   ]
  },
  {
   "cell_type": "code",
   "execution_count": 13,
   "metadata": {},
   "outputs": [
    {
     "name": "stdout",
     "output_type": "stream",
     "text": [
      "default\n",
      "H_i\n"
     ]
    }
   ],
   "source": [
    "DefectTotalEnergiesScN = WriteDefectsScN()\n",
    "np.save('DefectTotalEnergyScN.npy', DefectTotalEnergiesScN)"
   ]
  },
  {
   "cell_type": "code",
   "execution_count": 26,
   "metadata": {},
   "outputs": [
    {
     "name": "stdout",
     "output_type": "stream",
     "text": [
      "Al\n",
      "AlN\n",
      "As\n",
      "C\n",
      "Ca\n",
      "CaN\n",
      "Cu\n",
      "Ga\n",
      "GaN\n",
      "Ge\n",
      "Ge3N4\n",
      "GeAs\n",
      "GeO2\n",
      "GeS2\n",
      "H\n",
      "In\n",
      "InN\n",
      "Li\n",
      "Li3N\n",
      "LiN3\n",
      "Mg\n",
      "N\n",
      "O\n",
      "P\n",
      "P3N5\n",
      "S\n",
      "Sc\n",
      "ScN\n",
      "Se\n",
      "Si\n",
      "Si3N4\n",
      "SiO2\n",
      "Sn\n",
      "Zn\n",
      "Zn3As2\n",
      "Zn3N2\n",
      "Zn3P2\n",
      "ZnGeAs2\n",
      "ZnGeN2\n",
      "ZnGeP2\n",
      "ZnO\n",
      "ZnS\n",
      "ZnSe\n",
      "ZnSiN2\n"
     ]
    }
   ],
   "source": [
    "ChemicalPotentialReferences= WriteChemPot()\n",
    "np.save('ChemicalReferences.npy', ChemicalPotentialReferences)"
   ]
  },
  {
   "cell_type": "code",
   "execution_count": 17,
   "metadata": {
    "scrolled": false
   },
   "outputs": [],
   "source": [
    "bEdges = np.load('BandEdge.npy').item()\n",
    "DefTot = np.load('DefectTotalEnergy.npy').item()\n",
    "ChemPot = np.load('ChemicalReferences.npy').item()\n",
    "FreyCorr = np.load('FreysoldtCorrections.npy').item()"
   ]
  },
  {
   "cell_type": "code",
   "execution_count": 11,
   "metadata": {},
   "outputs": [
    {
     "data": {
      "text/plain": [
       "[{'0': -900.23868322, '1': -906.98142526},\n",
       " {'Ge': 32, 'In': 1, 'N': 64, 'Zn': 31}]"
      ]
     },
     "execution_count": 11,
     "metadata": {},
     "output_type": "execute_result"
    }
   ],
   "source": [
    "DefTot['In_Zn']"
   ]
  },
  {
   "cell_type": "code",
   "execution_count": 12,
   "metadata": {},
   "outputs": [
    {
     "data": {
      "text/plain": [
       "[-25.98035876, {'In': 2, 'N': 2}]"
      ]
     },
     "execution_count": 12,
     "metadata": {},
     "output_type": "execute_result"
    }
   ],
   "source": [
    "ChemPot['InN']"
   ]
  },
  {
   "cell_type": "code",
   "execution_count": 17,
   "metadata": {},
   "outputs": [],
   "source": [
    "BandEdges = WriteBandEdgeZnGeN2()\n"
   ]
  },
  {
   "cell_type": "code",
   "execution_count": 18,
   "metadata": {
    "scrolled": false
   },
   "outputs": [
    {
     "data": {
      "text/plain": [
       "{'AlPair': [{'-1': -900.76799367, '0': -907.56652313},\n",
       "  {'Al': 2, 'Ge': 31, 'N': 64, 'Zn': 31}],\n",
       " 'Al_Ge': [{'-1': -897.3254069, '0': -900.16366061},\n",
       "  {'Al': 1, 'Ge': 31, 'N': 64, 'Zn': 32}],\n",
       " 'Al_Ge-H': [{'-1': -898.3837603, '0': -905.63633284, '1': -908.38812341},\n",
       "  {'Al': 1, 'Ge': 31, 'H': 1, 'N': 64, 'Zn': 32}],\n",
       " 'Al_Zn': [{'0': -904.62426901, '1': -911.39871314},\n",
       "  {'Al': 1, 'Ge': 32, 'N': 64, 'Zn': 31}],\n",
       " 'Al_i': [{'0': -897.93175756,\n",
       "   '1': -904.84963109,\n",
       "   '2': -911.21877123,\n",
       "   '3': -917.78909189},\n",
       "  {'Al': 1, 'Ge': 32, 'N': 64, 'Zn': 32}],\n",
       " 'As_Ge': [{'-1': -891.8341766, '0': -898.52661309, '1': -905.2364975},\n",
       "  {'As': 1, 'Ge': 31, 'N': 64, 'Zn': 32}],\n",
       " 'As_N': [{'-1': -887.12366814, '0': -893.97325595, '1': -897.73490692},\n",
       "  {'As': 1, 'Ge': 32, 'N': 63, 'Zn': 32}],\n",
       " 'As_Zn': [{'-1': -894.67145705,\n",
       "   '0': -900.64649732,\n",
       "   '1': -906.80433712,\n",
       "   '2': -911.64920084,\n",
       "   '3': -916.98683613},\n",
       "  {'As': 1, 'Ge': 32, 'N': 64, 'Zn': 31}],\n",
       " 'Be_Ge': [{'-1': -893.70385805,\n",
       "   '-2': -890.14118476,\n",
       "   '0': -896.56510833,\n",
       "   '1': -899.54300812},\n",
       "  {'Be': 1, 'Ge': 31, 'N': 64, 'Zn': 32}],\n",
       " 'Be_Zn': [{'-1': -898.24388208, '0': -904.96151244, '1': -907.6730229},\n",
       "  {'Be': 1, 'Ge': 32, 'N': 64, 'Zn': 31}],\n",
       " 'C_Ge': [{'-1': -896.54360599, '0': -903.17552737, '1': -905.82779343},\n",
       "  {'C': 1, 'Ge': 31, 'N': 64, 'Zn': 32}],\n",
       " 'C_N': [{'-1': -894.36930362,\n",
       "   '-2': -887.60065115,\n",
       "   '0': -898.26566541,\n",
       "   '1': -901.45667399},\n",
       "  {'C': 1, 'Ge': 32, 'N': 63, 'Zn': 32}],\n",
       " 'Ca_Ge': [{'-1': -890.22774313,\n",
       "   '-2': -886.45176964,\n",
       "   '0': -893.80911183,\n",
       "   '1': -897.18813559},\n",
       "  {'Ca': 1, 'Ge': 31, 'N': 64, 'Zn': 32}],\n",
       " 'Ca_Zn': [{'-1': -895.91102455, '0': -902.72397673, '1': -905.49143286},\n",
       "  {'Ca': 1, 'Ge': 32, 'N': 64, 'Zn': 31}],\n",
       " 'Cu_Zn': [{'-1': -896.89537332, '0': -901.52334277, '1': -904.62551186},\n",
       "  {'Cu': 1, 'Ge': 32, 'N': 64, 'Zn': 31}],\n",
       " 'GaPair': [{'-1': -895.53729987, '0': -902.23020554},\n",
       "  {'Ga': 2, 'Ge': 31, 'N': 64, 'Zn': 31}],\n",
       " 'Ga_Ge': [{'-1': -894.56870488, '0': -897.42201655},\n",
       "  {'Ga': 1, 'Ge': 31, 'N': 64, 'Zn': 32}],\n",
       " 'Ga_Ge-H': [{'-1': -896.15054321, '0': -902.86338401, '1': -905.61994785},\n",
       "  {'Ga': 1, 'Ge': 31, 'H': 1, 'N': 64, 'Zn': 32}],\n",
       " 'Ga_Zn': [{'0': -902.10334928, '1': -908.81322898},\n",
       "  {'Ga': 1, 'Ge': 32, 'N': 64, 'Zn': 31}],\n",
       " 'Ga_d_Ge': [{'-1': -894.53646534, '0': -897.4335849},\n",
       "  {'Ga': 1, 'Ge': 31, 'N': 64, 'Zn': 32}],\n",
       " 'Ga_d_Zn': [{'0': -902.07190611, '1': -908.81851466},\n",
       "  {'Ga': 1, 'Ge': 32, 'N': 64, 'Zn': 31}],\n",
       " 'Ga_i': [{'0': -896.67570071,\n",
       "   '1': -903.53668854,\n",
       "   '2': -909.1223585,\n",
       "   '3': -914.8459047},\n",
       "  {'Ga': 1, 'Ge': 32, 'N': 64, 'Zn': 32}],\n",
       " 'Ge_N': [{'-1': -886.50825432,\n",
       "   '-2': -879.67140784,\n",
       "   '0': -891.47802253,\n",
       "   '1': -895.78312077,\n",
       "   '2': -899.70131049},\n",
       "  {'Ge': 33, 'N': 63, 'Zn': 32}],\n",
       " 'Ge_Zn': [{'-1': -894.94626374,\n",
       "   '-2': -888.11231718,\n",
       "   '-3': -881.07354969,\n",
       "   '0': -901.79741221,\n",
       "   '1': -907.73890098,\n",
       "   '2': -914.24149175,\n",
       "   '3': -917.04940096,\n",
       "   '4': -919.79177135},\n",
       "  {'Ge': 33, 'N': 64, 'Zn': 31}],\n",
       " 'Ge_i': [{'0': -897.5517317,\n",
       "   '1': -903.63881216,\n",
       "   '2': -910.0553568,\n",
       "   '3': -915.09218458,\n",
       "   '4': -920.3665895},\n",
       "  {'Ge': 33, 'N': 64, 'Zn': 32}],\n",
       " 'H_i': [{'-1': -897.59482012, '0': -902.27821739, '1': -909.39133668},\n",
       "  {'Ge': 32, 'H': 1, 'N': 64, 'Zn': 32}],\n",
       " 'InPair': [{'0': -897.72680573}, {'Ge': 31, 'In': 2, 'N': 64, 'Zn': 31}],\n",
       " 'In_Ge': [{'-1': -891.98197259, '0': -895.05662641},\n",
       "  {'Ge': 31, 'In': 1, 'N': 64, 'Zn': 32}],\n",
       " 'In_Zn': [{'0': -900.23868322, '1': -906.98142526},\n",
       "  {'Ge': 32, 'In': 1, 'N': 64, 'Zn': 31}],\n",
       " 'LiPair': [{'-1': -897.98503444, '0': -904.75157562, '1': -907.46532535},\n",
       "  {'Ge': 32, 'Li': 2, 'N': 64, 'Zn': 31}],\n",
       " 'Li_Zn': [{'-1': -897.57477765, '0': -900.50956761},\n",
       "  {'Ge': 32, 'Li': 1, 'N': 64, 'Zn': 31}],\n",
       " 'Li_Zn-H': [{'-1': -899.65376142, '0': -906.39609957, '1': -909.09897632},\n",
       "  {'Ge': 32, 'H': 1, 'Li': 1, 'N': 64, 'Zn': 31}],\n",
       " 'Li_i': [{'-1': -894.38272706, '0': -901.1260478, '1': -907.8842214},\n",
       "  {'Ge': 32, 'Li': 1, 'N': 64, 'Zn': 32}],\n",
       " 'Mg_Ge': [{'-1': -890.77973666,\n",
       "   '-2': -887.46346612,\n",
       "   '0': -893.92951167,\n",
       "   '1': -896.95043984},\n",
       "  {'Ge': 31, 'Mg': 1, 'N': 64, 'Zn': 32}],\n",
       " 'Mg_Zn': [{'-1': -896.33467813, '0': -903.1010648, '1': -905.8306168},\n",
       "  {'Ge': 32, 'Mg': 1, 'N': 64, 'Zn': 31}],\n",
       " 'N_Ge': [{'-1': -893.41785154,\n",
       "   '-2': -886.80987879,\n",
       "   '0': -898.80204599,\n",
       "   '1': -903.30043449,\n",
       "   '2': -907.80590543},\n",
       "  {'Ge': 31, 'N': 65, 'Zn': 32}],\n",
       " 'N_Zn': [{'-1': -898.69845856, '0': -903.43928361, '1': -907.64031148},\n",
       "  {'Ge': 32, 'N': 65, 'Zn': 31}],\n",
       " 'N_i': [{'-1': -901.63984521,\n",
       "   '-2': -894.84845461,\n",
       "   '0': -907.08554627,\n",
       "   '1': -911.99010648,\n",
       "   '2': -915.71737039,\n",
       "   '3': -919.428709},\n",
       "  {'Ge': 32, 'N': 65, 'Zn': 32}],\n",
       " 'O_N': [{'-1': -891.7959728,\n",
       "   '0': -898.40337259,\n",
       "   '1': -905.03732581,\n",
       "   '2': -907.73871135},\n",
       "  {'Ge': 32, 'N': 63, 'O': 1, 'Zn': 32}],\n",
       " 'P_Ge': [{'-1': -895.0858497, '0': -901.80535578, '1': -908.53986558},\n",
       "  {'Ge': 31, 'N': 64, 'P': 1, 'Zn': 32}],\n",
       " 'P_N': [{'-1': -888.81771925, '0': -895.67536732, '1': -899.1583451},\n",
       "  {'Ge': 32, 'N': 63, 'P': 1, 'Zn': 32}],\n",
       " 'P_Zn': [{'-1': -895.6913712,\n",
       "   '0': -901.80300785,\n",
       "   '1': -907.87967999,\n",
       "   '2': -913.11290084,\n",
       "   '3': -919.72341577},\n",
       "  {'Ge': 32, 'N': 64, 'P': 1, 'Zn': 31}],\n",
       " 'S_Ge': [{'-1': -890.31410215,\n",
       "   '0': -896.25014096,\n",
       "   '1': -901.70537141,\n",
       "   '2': -907.92638715},\n",
       "  {'Ge': 31, 'N': 64, 'S': 1, 'Zn': 32}],\n",
       " 'S_N': [{'-1': -886.89820006, '0': -893.71493387, '1': -900.54828082},\n",
       "  {'Ge': 32, 'N': 63, 'S': 1, 'Zn': 32}],\n",
       " 'S_Zn': [{'-1': -893.32371707,\n",
       "   '0': -900.11156826,\n",
       "   '1': -904.75184283,\n",
       "   '2': -909.04460989,\n",
       "   '3': -913.6445898,\n",
       "   '4': -918.13479238},\n",
       "  {'Ge': 32, 'N': 64, 'S': 1, 'Zn': 31}],\n",
       " 'Se_Ge': [{'-1': -888.06927288,\n",
       "   '0': -894.85754928,\n",
       "   '1': -900.13792501,\n",
       "   '2': -905.51446282},\n",
       "  {'Ge': 31, 'N': 64, 'Se': 1, 'Zn': 32}],\n",
       " 'Se_N': [{'-1': -885.10655064, '0': -891.92164714, '1': -898.75461353},\n",
       "  {'Ge': 32, 'N': 63, 'Se': 1, 'Zn': 32}],\n",
       " 'Se_Zn': [{'-1': -893.31488092,\n",
       "   '0': -898.98059294,\n",
       "   '1': -903.63844953,\n",
       "   '2': -908.41659038,\n",
       "   '3': -912.46491464,\n",
       "   '4': -916.28825366},\n",
       "  {'Ge': 32, 'N': 64, 'Se': 1, 'Zn': 31}],\n",
       " 'Sn_Ge': [{'0': -899.18917319}, {'Ge': 31, 'N': 64, 'Sn': 1, 'Zn': 32}],\n",
       " 'Sn_Zn': [{'0': -900.49723031, '2': -912.90267212},\n",
       "  {'Ge': 32, 'N': 64, 'Sn': 1, 'Zn': 31}],\n",
       " 'V_Ge': [{'-1': -883.25847683,\n",
       "   '-2': -878.76951318,\n",
       "   '-3': -874.14641607,\n",
       "   '-4': -869.42702078,\n",
       "   '0': -887.3084597,\n",
       "   '1': -889.91691512,\n",
       "   '2': -892.64111304,\n",
       "   '3': -895.27623341},\n",
       "  {'Ge': 31, 'N': 64, 'Zn': 32}],\n",
       " 'V_N': [{'-1': -882.4164129,\n",
       "   '-2': -875.67615222,\n",
       "   '-3': -869.02238408,\n",
       "   '0': -887.92218043,\n",
       "   '1': -893.34595038,\n",
       "   '2': -896.68739486,\n",
       "   '3': -900.55761455},\n",
       "  {'Ge': 32, 'N': 63, 'Zn': 32}],\n",
       " 'V_N-H': [{'-1': -885.20822453,\n",
       "   '0': -891.62589258,\n",
       "   '1': -896.59461471,\n",
       "   '2': -901.61407049,\n",
       "   '3': -904.31864757},\n",
       "  {'Ge': 32, 'H': 1, 'N': 63, 'Zn': 32}],\n",
       " 'V_Zn': [{'-1': -890.82738466,\n",
       "   '-2': -887.25422605,\n",
       "   '0': -894.27773799,\n",
       "   '1': -897.78625395,\n",
       "   '2': -900.97154375},\n",
       "  {'Ge': 32, 'N': 64, 'Zn': 31}],\n",
       " 'V_Zn-H': [{'-1': -897.45904325,\n",
       "   '-2': -890.76707172,\n",
       "   '0': -900.93556023,\n",
       "   '1': -904.23526884},\n",
       "  {'Ge': 32, 'H': 1, 'N': 64, 'Zn': 31}],\n",
       " 'ZnGePair': [{'-1': -892.65815112, '0': -899.24039057, '1': -902.70196386},\n",
       "  {'Ge': 32, 'N': 64, 'Zn': 32}],\n",
       " 'Zn_Ge': [{'-1': -889.28782535,\n",
       "   '-2': -885.7220128,\n",
       "   '-3': -879.03561542,\n",
       "   '0': -892.53471639,\n",
       "   '1': -895.56660445,\n",
       "   '2': -898.22736193},\n",
       "  {'Ge': 31, 'N': 64, 'Zn': 33}],\n",
       " 'Zn_N': [{'-1': -880.19597829, '0': -886.02244649, '1': -891.51943157},\n",
       "  {'Ge': 32, 'N': 63, 'Zn': 33}],\n",
       " 'Zn_i': [{'0': -895.56660157, '1': -902.00865172, '2': -908.65316432},\n",
       "  {'Ge': 32, 'N': 64, 'Zn': 33}],\n",
       " 'default': [{'0': -901.28587431}, {'Ge': 32, 'N': 64, 'Zn': 32}]}"
      ]
     },
     "execution_count": 18,
     "metadata": {},
     "output_type": "execute_result"
    }
   ],
   "source": [
    "DefTot"
   ]
  },
  {
   "cell_type": "code",
   "execution_count": 10,
   "metadata": {},
   "outputs": [
    {
     "data": {
      "text/plain": [
       "{'Al': [-16.41683292, {'Al': 4}],\n",
       " 'AlN': [-34.96263378, {'Al': 2, 'N': 2}],\n",
       " 'As': [-33.75142116, {'As': 6}],\n",
       " 'C': [-84.37207806, {'C': 8}],\n",
       " 'Ca': [-3.61254745, {'Ca': 2}],\n",
       " 'CaN': [-477.91231295, {'Ca': 48, 'N': 32}],\n",
       " 'Cu': [-14.56107699, {'Cu': 4}],\n",
       " 'Ga': [-27.06451165, {'Ga': 8}],\n",
       " 'GaN': [-29.6145308, {'Ga': 2, 'N': 2}],\n",
       " 'Ge': [-10.70087357, {'Ge': 2}],\n",
       " 'Ge3N4': [-230.84178365, {'Ge': 12, 'N': 16}],\n",
       " 'GeO2': [-72.90652552, {'Ge': 3, 'O': 6}],\n",
       " 'GeS2': [-271.8334294, {'Ge': 16, 'S': 32}],\n",
       " 'H': [-7.82474526, {'H': 2}],\n",
       " 'In': [-11.69994163, {'In': 4}],\n",
       " 'InN': [-25.98035876, {'In': 2, 'N': 2}],\n",
       " 'Li': [-3.89574138, {'Li': 2}],\n",
       " 'Li3N': [-17.72148574, {'Li': 3, 'N': 1}],\n",
       " 'LiN3': [-66.13528866, {'Li': 2, 'N': 6}],\n",
       " 'Mg': [-3.08794758, {'Mg': 2}],\n",
       " 'N': [-20.44693316, {'N': 2}],\n",
       " 'O': [-14.02604683, {'O': 2}],\n",
       " 'P': [-51.69489998, {'P': 8}],\n",
       " 'P3N5': [-297.47323234, {'N': 20, 'P': 12}],\n",
       " 'S': [-41.96811057, {'S': 8}],\n",
       " 'Se': [-13.35088177, {'Se': 3}],\n",
       " 'Sn': [-36.04143642, {'Sn': 8}],\n",
       " 'Zn': [-2.5438452, {'Zn': 2}],\n",
       " 'Zn3N2': [-192.51659948, {'N': 16, 'Zn': 24}],\n",
       " 'Zn3P2': [-144.15822104, {'P': 16, 'Zn': 24}],\n",
       " 'ZnGeAs2': [-75.20117589, {'As': 8, 'Ge': 4, 'Zn': 4}],\n",
       " 'ZnGeN2': [-112.65659878, {'Ge': 4, 'N': 8, 'Zn': 4}],\n",
       " 'ZnGeP2': [-82.30502813, {'Ge': 4, 'P': 8, 'Zn': 4}],\n",
       " 'ZnO': [-22.76121164, {'O': 2, 'Zn': 2}],\n",
       " 'ZnS': [-33.58395129, {'S': 4, 'Zn': 4}],\n",
       " 'ZnSe': [-29.8055435, {'Se': 4, 'Zn': 4}]}"
      ]
     },
     "execution_count": 10,
     "metadata": {},
     "output_type": "execute_result"
    }
   ],
   "source": [
    "ChemicalPotentialReferences"
   ]
  },
  {
   "cell_type": "code",
   "execution_count": 11,
   "metadata": {},
   "outputs": [
    {
     "data": {
      "text/plain": [
       "0.15827260749999894"
      ]
     },
     "execution_count": 11,
     "metadata": {},
     "output_type": "execute_result"
    }
   ],
   "source": [
    "-25.98035876 / 2.0 - -11.69994163 / 4 - -20.44693316/2"
   ]
  },
  {
   "cell_type": "code",
   "execution_count": 4,
   "metadata": {},
   "outputs": [],
   "source": [
    "Sc = -.15018323*100 /2"
   ]
  },
  {
   "cell_type": "code",
   "execution_count": 5,
   "metadata": {},
   "outputs": [],
   "source": [
    "rs = -.21949453 * 100"
   ]
  },
  {
   "cell_type": "code",
   "execution_count": 6,
   "metadata": {},
   "outputs": [],
   "source": [
    "zb = -.21256993*100"
   ]
  },
  {
   "cell_type": "code",
   "execution_count": 7,
   "metadata": {},
   "outputs": [],
   "source": [
    "wu = -0.432863984870*100/2"
   ]
  },
  {
   "cell_type": "code",
   "execution_count": 8,
   "metadata": {},
   "outputs": [],
   "source": [
    "N = -20.44693316/2"
   ]
  },
  {
   "cell_type": "code",
   "execution_count": 9,
   "metadata": {},
   "outputs": [
    {
     "data": {
      "text/plain": [
       "-3.9105711634999984"
      ]
     },
     "execution_count": 9,
     "metadata": {},
     "output_type": "execute_result"
    }
   ],
   "source": [
    "wu - Sc -N"
   ]
  },
  {
   "cell_type": "code",
   "execution_count": 10,
   "metadata": {},
   "outputs": [
    {
     "data": {
      "text/plain": [
       "-3.5243649199999965"
      ]
     },
     "execution_count": 10,
     "metadata": {},
     "output_type": "execute_result"
    }
   ],
   "source": [
    "zb - Sc - N"
   ]
  },
  {
   "cell_type": "code",
   "execution_count": 11,
   "metadata": {},
   "outputs": [
    {
     "data": {
      "text/plain": [
       "-4.216824919999997"
      ]
     },
     "execution_count": 11,
     "metadata": {},
     "output_type": "execute_result"
    }
   ],
   "source": [
    "rs - Sc - N"
   ]
  },
  {
   "cell_type": "code",
   "execution_count": 14,
   "metadata": {},
   "outputs": [
    {
     "data": {
      "text/plain": [
       "{'H_i': [{'-1': -693.16900562, '0': -700.365323, '1': -707.61446714},\n",
       "  {'H': 1, 'N': 32, 'Sc': 32}],\n",
       " 'default': [{'0': -697.91974502}, {'N': 32, 'Sc': 32}]}"
      ]
     },
     "execution_count": 14,
     "metadata": {},
     "output_type": "execute_result"
    }
   ],
   "source": [
    "DefectTotalEnergiesScN"
   ]
  },
  {
   "cell_type": "code",
   "execution_count": null,
   "metadata": {},
   "outputs": [],
   "source": []
  }
 ],
 "metadata": {
  "kernelspec": {
   "display_name": "Python 2",
   "language": "python",
   "name": "python2"
  },
  "language_info": {
   "codemirror_mode": {
    "name": "ipython",
    "version": 2
   },
   "file_extension": ".py",
   "mimetype": "text/x-python",
   "name": "python",
   "nbconvert_exporter": "python",
   "pygments_lexer": "ipython2",
   "version": "2.7.15rc1"
  }
 },
 "nbformat": 4,
 "nbformat_minor": 2
}
